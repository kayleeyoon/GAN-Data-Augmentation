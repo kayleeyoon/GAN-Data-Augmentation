{
 "cells": [
  {
   "cell_type": "code",
   "execution_count": null,
   "metadata": {
    "scrolled": true
   },
   "outputs": [],
   "source": [
    "import numpy as np\n",
    "import keras\n",
    "from keras.datasets import mnist\n",
    "from keras.models import Sequential, Model\n",
    "from keras.layers import Dense, Input, Reshape, Conv2D, MaxPooling2D, UpSampling2D\n",
    "from keras import optimizers\n",
    "from keras.optimizers import Adam\n",
    "import matplotlib.pyplot as plt\n",
    "import tensorflow as tf\n",
    "import librosa\n",
    "from librosa import display\n",
    "from librosa.output import write_wav"
   ]
  },
  {
   "cell_type": "code",
   "execution_count": null,
   "metadata": {},
   "outputs": [],
   "source": [
    "tf.logging.set_verbosity(tf.logging.ERROR)\n",
    "config = tf.ConfigProto()\n",
    "config.gpu_options.allow_growth = True\n",
    "sess = tf.Session(config=config)"
   ]
  },
  {
   "cell_type": "code",
   "execution_count": null,
   "metadata": {},
   "outputs": [],
   "source": [
    "X_train = np.load('./data/yes-data-2d.npy')\n",
    "_max = np.amax(X_train)\n",
    "\n",
    "# normalize\n",
    "X_train = X_train / _max\n",
    "X_train = np.expand_dims(X_train, axis=3)"
   ]
  },
  {
   "cell_type": "code",
   "execution_count": null,
   "metadata": {},
   "outputs": [],
   "source": [
    "def denormalize(array):\n",
    "    return array * _max"
   ]
  },
  {
   "cell_type": "code",
   "execution_count": null,
   "metadata": {},
   "outputs": [],
   "source": [
    "noise_factor = 0.04\n",
    "X_train_noisy = X_train + noise_factor * np.random.normal(loc=0.0, scale=1.0, size=X_train.shape) \n",
    "\n",
    "X_train_noisy = np.clip(X_train_noisy, 0., 1.)"
   ]
  },
  {
   "cell_type": "code",
   "execution_count": null,
   "metadata": {},
   "outputs": [],
   "source": [
    "autoencoder = Sequential()\n",
    "\n",
    "autoencoder.add(Conv2D(128, (3, 3), activation='relu', padding='same', input_shape=(128, 24, 1)))\n",
    "autoencoder.add(MaxPooling2D((2, 2), padding='same'))\n",
    "\n",
    "autoencoder.add(Conv2D(128, (3, 3), activation='relu', padding='same'))\n",
    "\n",
    "autoencoder.add(Conv2D(128, (3, 3), activation='relu', padding='same'))\n",
    "autoencoder.add(UpSampling2D((2, 2)))\n",
    "\n",
    "autoencoder.add(Conv2D(1, (3, 3), activation='sigmoid', padding='same'))\n",
    "\n",
    "optim = Adam(lr=.002)\n",
    "autoencoder.compile(optimizer=optim, loss='binary_crossentropy')"
   ]
  },
  {
   "cell_type": "code",
   "execution_count": null,
   "metadata": {
    "scrolled": true
   },
   "outputs": [],
   "source": [
    "autoencoder.fit(X_train_noisy, X_train, epochs=100, batch_size=256, validation_split=.1)"
   ]
  },
  {
   "cell_type": "code",
   "execution_count": null,
   "metadata": {},
   "outputs": [],
   "source": [
    "librosa.display.specshow(X_train_noisy[8].reshape(128, 24))"
   ]
  },
  {
   "cell_type": "code",
   "execution_count": null,
   "metadata": {},
   "outputs": [],
   "source": [
    "data = X_train[8]\n",
    "data = np.expand_dims(data, axis=0)\n",
    "data = autoencoder.predict(data) \n",
    "data = data.reshape(128, 24)\n",
    "librosa.display.specshow(data)\n",
    "reconstructed = librosa.feature.inverse.mel_to_audio(denormalize(data), sr=12000, power=.5)\n",
    "write_wav('reconstructed.wav', sr=12000, y=reconstructed)"
   ]
  },
  {
   "cell_type": "code",
   "execution_count": null,
   "metadata": {},
   "outputs": [],
   "source": [
    "data = X_train[8].reshape(128, 24)\n",
    "librosa.display.specshow(data)\n",
    "real = librosa.feature.inverse.mel_to_audio(denormalize(data), sr=12000, power=.5)\n",
    "write_wav('real.wav', sr=12000, y=real)"
   ]
  },
  {
   "cell_type": "code",
   "execution_count": null,
   "metadata": {},
   "outputs": [],
   "source": [
    "data, rate = librosa.load('./yes_p_generated6.wav', duration=1, sr=12000,)\n",
    "spectrogram = librosa.feature.melspectrogram(y=data, sr=rate, n_mels=128, power=.5)\n",
    "librosa.display.specshow(spectrogram)"
   ]
  },
  {
   "cell_type": "code",
   "execution_count": null,
   "metadata": {},
   "outputs": [],
   "source": [
    "spectrogram = np.expand_dims(spectrogram, axis=0)\n",
    "spectrogram = np.expand_dims(spectrogram, axis=3)\n",
    "output = autoencoder.predict(spectrogram)\n",
    "output = np.squeeze(output)\n",
    "librosa.display.specshow(output)\n",
    "output = librosa.feature.inverse.mel_to_audio(denormalize(output), sr=12000, power=.5)\n",
    "write_wav('test.wav', sr=12000, y=output)"
   ]
  },
  {
   "cell_type": "code",
   "execution_count": null,
   "metadata": {},
   "outputs": [],
   "source": []
  },
  {
   "cell_type": "code",
   "execution_count": null,
   "metadata": {},
   "outputs": [],
   "source": []
  }
 ],
 "metadata": {
  "kernelspec": {
   "display_name": "Python 3",
   "language": "python",
   "name": "python3"
  },
  "language_info": {
   "codemirror_mode": {
    "name": "ipython",
    "version": 3
   },
   "file_extension": ".py",
   "mimetype": "text/x-python",
   "name": "python",
   "nbconvert_exporter": "python",
   "pygments_lexer": "ipython3",
   "version": "3.7.4"
  }
 },
 "nbformat": 4,
 "nbformat_minor": 2
}
