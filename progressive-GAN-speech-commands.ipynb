{
 "cells": [
  {
   "cell_type": "code",
   "execution_count": 1,
   "metadata": {},
   "outputs": [
    {
     "name": "stderr",
     "output_type": "stream",
     "text": [
      "Using TensorFlow backend.\n"
     ]
    }
   ],
   "source": [
    "import tensorflow as tf\n",
    "from keras.layers import Input, Dense, Reshape, Flatten, AveragePooling2D, Add, Layer\n",
    "from keras.layers.advanced_activations import LeakyReLU\n",
    "from keras.layers.convolutional import UpSampling2D, Conv2D\n",
    "from keras.models import Sequential, Model, save_model, load_model\n",
    "from keras.optimizers import Adam\n",
    "import matplotlib.pyplot as plt\n",
    "import numpy as np\n",
    "import os\n",
    "import librosa\n",
    "import librosa.display\n",
    "from librosa.output import write_wav\n",
    "from tqdm import tqdm\n",
    "from skimage.transform import resize\n",
    "from keras.initializers import RandomNormal\n",
    "from keras.constraints import max_norm\n",
    "from keras import backend\n",
    "import IPython.display as ipd"
   ]
  },
  {
   "cell_type": "code",
   "execution_count": 2,
   "metadata": {},
   "outputs": [],
   "source": [
    "tf.logging.set_verbosity(tf.logging.ERROR)"
   ]
  },
  {
   "cell_type": "code",
   "execution_count": 3,
   "metadata": {},
   "outputs": [],
   "source": [
    "command = 'go'\n",
    "img_shape = (128, 32, 1) # rows, columns, channels\n",
    "latent_dim = 100\n",
    "power = .5\n",
    "sr = 16000\n",
    "model_sizes = [(16, 4, 1), (32, 8, 1), (64, 16, 1), (128, 32, 1)]\n",
    "batch_size = 32\n",
    "n_epochs = 30\n",
    "g_lr = .0001\n",
    "d_lr = .0002"
   ]
  },
  {
   "cell_type": "code",
   "execution_count": 4,
   "metadata": {},
   "outputs": [],
   "source": [
    "X_train = np.load('./data/' + command + '-train.npy')\n",
    "_max = np.amax(X_train)\n",
    "\n",
    "# normalize\n",
    "X_train = X_train / _max"
   ]
  },
  {
   "cell_type": "code",
   "execution_count": 5,
   "metadata": {},
   "outputs": [],
   "source": [
    "def wasserstein_loss(y_true, y_pred):\n",
    "    return backend.mean(y_true * y_pred)"
   ]
  },
  {
   "cell_type": "code",
   "execution_count": 6,
   "metadata": {},
   "outputs": [],
   "source": [
    "def scale_dataset(images, new_shape):\n",
    "    images_list = list()\n",
    "    for image in images:\n",
    "        # resize with nearest neighbor interpolation\n",
    "        new_image = resize(image, new_shape, 0)\n",
    "        images_list.append(new_image)\n",
    "    return np.asarray(images_list)"
   ]
  },
  {
   "cell_type": "code",
   "execution_count": 7,
   "metadata": {},
   "outputs": [],
   "source": [
    "class WeightedSum(Add):\n",
    "    # init with default value\n",
    "    def __init__(self, alpha=0.0, **kwargs):\n",
    "        super(WeightedSum, self).__init__(**kwargs)\n",
    "        self.alpha = backend.variable(alpha, name='ws_alpha')\n",
    "\n",
    "    # output a weighted sum of inputs\n",
    "    def _merge_function(self, inputs):\n",
    "        # only supports a weighted sum of two inputs\n",
    "        assert (len(inputs) == 2)\n",
    "        output = ((1.0 - self.alpha) * inputs[0]) + (self.alpha * inputs[1])\n",
    "        return output"
   ]
  },
  {
   "cell_type": "code",
   "execution_count": 8,
   "metadata": {},
   "outputs": [],
   "source": [
    "# pixel-wise feature vector normalization layer\n",
    "class PixelNormalization(Layer):\n",
    "    # initialize the layer\n",
    "    def __init__(self, **kwargs):\n",
    "        super(PixelNormalization, self).__init__(**kwargs)\n",
    "\n",
    "    # perform the operation\n",
    "    def call(self, inputs):\n",
    "        # calculate square pixel values\n",
    "        values = inputs**2.0\n",
    "        # calculate the mean pixel values\n",
    "        mean_values = backend.mean(values, axis=-1, keepdims=True)\n",
    "        # ensure the mean is not zero\n",
    "        mean_values += 1.0e-8\n",
    "        # calculate the sqrt of the mean squared value (L2 norm)\n",
    "        l2 = backend.sqrt(mean_values)\n",
    "        # normalize values by the l2 norm\n",
    "        normalized = inputs / l2\n",
    "        return normalized\n",
    "\n",
    "    # define the output shape of the layer\n",
    "    def compute_output_shape(self, input_shape):\n",
    "        return input_shape"
   ]
  },
  {
   "cell_type": "code",
   "execution_count": 9,
   "metadata": {},
   "outputs": [],
   "source": [
    "def define_discriminator():\n",
    "    # initialize weights\n",
    "    init = RandomNormal(stddev=0.02)\n",
    "    # set a weight constraint\n",
    "    const = max_norm(1.0)\n",
    "    model_list = []\n",
    "    \n",
    "    in_image = Input(shape=model_sizes[0])\n",
    "\n",
    "    d = Conv2D(128, (1,1), padding='same', kernel_initializer=init, kernel_constraint=const)(in_image)\n",
    "    d = LeakyReLU(alpha=0.2)(d)\n",
    "    \n",
    "    d = Conv2D(128, (3,3), padding='same', kernel_initializer=init, kernel_constraint=const)(d)\n",
    "    d = LeakyReLU(alpha=0.2)(d)\n",
    "    \n",
    "    d = Conv2D(128, (4,4), padding='same', kernel_initializer=init, kernel_constraint=const)(d)\n",
    "    d = LeakyReLU(alpha=0.2)(d)\n",
    "    \n",
    "    d = Flatten()(d)\n",
    "    out_class = Dense(1)(d)\n",
    "    \n",
    "    model = Model(in_image, out_class)\n",
    "    model.compile(loss=wasserstein_loss, optimizer=Adam(lr=d_lr, beta_1=0, beta_2=0.99, epsilon=10e-8))\n",
    "    model_list.append([model, model])\n",
    "    \n",
    "    # create submodels\n",
    "    for i in range(1, len(model_sizes)):\n",
    "        # get prior model without the fade-on\n",
    "        old_model = model_list[i - 1][0]\n",
    "        \n",
    "        # create new model for next resolution\n",
    "        models = add_discriminator_block(old_model, i)\n",
    "        model_list.append(models)\n",
    "    return model_list"
   ]
  },
  {
   "cell_type": "code",
   "execution_count": 10,
   "metadata": {},
   "outputs": [],
   "source": [
    "def add_discriminator_block(old_model, i, n_input_layers=3):\n",
    "    init = RandomNormal(stddev=0.02)\n",
    "    const = max_norm(1.0)\n",
    "    # get shape of existing model\n",
    "    in_shape = list(old_model.input.shape)\n",
    "    \n",
    "    # define new input shape\n",
    "    input_shape = model_sizes[i]\n",
    "    \n",
    "    in_image = Input(shape=input_shape)\n",
    "   \n",
    "    d = Conv2D(128, (1,1), padding='same', kernel_initializer=init, kernel_constraint=const)(in_image)\n",
    "    d = LeakyReLU(alpha=0.2)(d)\n",
    "    \n",
    "    d = Conv2D(128, (3,3), padding='same', kernel_initializer=init, kernel_constraint=const)(d)\n",
    "    d = LeakyReLU(alpha=0.2)(d)\n",
    "    \n",
    "    d = Conv2D(128, (3,3), padding='same', kernel_initializer=init, kernel_constraint=const)(d)\n",
    "    d = LeakyReLU(alpha=0.2)(d)\n",
    "    \n",
    "    d = AveragePooling2D()(d)\n",
    "    block_new = d\n",
    "    \n",
    "    # skip the input, 1x1 and activation for the old model\n",
    "    for i in range(n_input_layers, len(old_model.layers)):\n",
    "        d = old_model.layers[i](d)\n",
    "    # define straight-through model\n",
    "    model1 = Model(in_image, d)\n",
    "    model1.compile(loss=wasserstein_loss, optimizer=Adam(lr=d_lr, beta_1=0, beta_2=0.99, epsilon=10e-8))\n",
    "    \n",
    "    # downsample the new larger image\n",
    "    downsample = AveragePooling2D()(in_image)\n",
    "    \n",
    "    # connect old input processing to downsampled new input\n",
    "    block_old = old_model.layers[1](downsample)\n",
    "    block_old = old_model.layers[2](block_old)\n",
    "    \n",
    "    # fade in output of old model input layer with new input\n",
    "    d = WeightedSum()([block_old, block_new])\n",
    "    \n",
    "    # skip the input, 1x1 and activation for the old model\n",
    "    for i in range(n_input_layers, len(old_model.layers)):\n",
    "        d = old_model.layers[i](d)\n",
    "    # define straight-through model\n",
    "    model2 = Model(in_image, d)\n",
    "    model2.compile(loss=wasserstein_loss, optimizer=Adam(lr=d_lr, beta_1=0, beta_2=0.99, epsilon=10e-8))\n",
    "    return [model1, model2]"
   ]
  },
  {
   "cell_type": "code",
   "execution_count": 11,
   "metadata": {},
   "outputs": [],
   "source": [
    "def define_generator():\n",
    "    init = RandomNormal(stddev=0.02)\n",
    "    const = max_norm(1.0)\n",
    "    model_list = []\n",
    "    \n",
    "    in_latent = Input(shape=(latent_dim,))\n",
    "    g  = Dense(128 * model_sizes[0][0] * model_sizes[0][1], kernel_initializer=init, kernel_constraint=const)(in_latent)\n",
    "    g = Reshape((model_sizes[0][0], model_sizes[0][1], 128))(g)\n",
    "    \n",
    "    g = Conv2D(128, (3,3), padding='same', kernel_initializer=init, kernel_constraint=const)(g)\n",
    "    g = PixelNormalization()(g)\n",
    "    g = LeakyReLU(alpha=0.2)(g)\n",
    "    \n",
    "    g = Conv2D(128, (3,3), padding='same', kernel_initializer=init, kernel_constraint=const)(g)\n",
    "    g = PixelNormalization()(g)\n",
    "    g = LeakyReLU(alpha=0.2)(g)\n",
    "    \n",
    "    out_image = Conv2D(1, (1,1), padding='same', kernel_initializer=init, kernel_constraint=const, activation='sigmoid')(g)\n",
    "    \n",
    "    model = Model(in_latent, out_image)\n",
    "    model_list.append([model, model])\n",
    "    \n",
    "    # create submodels\n",
    "    for i in range(1, len(model_sizes)):\n",
    "        # get prior model without the fade-on\n",
    "        old_model = model_list[i - 1][0]\n",
    "        # create new model for next resolution\n",
    "        models = add_generator_block(old_model)\n",
    "        model_list.append(models)\n",
    "    return model_list"
   ]
  },
  {
   "cell_type": "code",
   "execution_count": 12,
   "metadata": {},
   "outputs": [],
   "source": [
    "def add_generator_block(old_model):\n",
    "    init = RandomNormal(stddev=0.02)\n",
    "    const = max_norm(1.0)\n",
    "    \n",
    "    # get the end of the last block\n",
    "    block_end = old_model.layers[-2].output\n",
    "    \n",
    "    # upsample, and define new block\n",
    "    upsampling = UpSampling2D()(block_end)\n",
    "    g = Conv2D(128, (3,3), padding='same', kernel_initializer=init, kernel_constraint=const)(upsampling)\n",
    "    g = PixelNormalization()(g)\n",
    "    g = LeakyReLU(alpha=0.2)(g)\n",
    "    \n",
    "    g = Conv2D(128, (3,3), padding='same', kernel_initializer=init, kernel_constraint=const)(g)\n",
    "    g = PixelNormalization()(g)\n",
    "    g = LeakyReLU(alpha=0.2)(g)\n",
    "    \n",
    "    out_image = Conv2D(1, (1,1), padding='same', kernel_initializer=init, kernel_constraint=const, activation='sigmoid')(g)\n",
    "    \n",
    "    model1 = Model(old_model.input, out_image)\n",
    "    \n",
    "    # get the output layer from old model\n",
    "    out_old = old_model.layers[-1]\n",
    "    # connect the upsampling to the old output layer\n",
    "    out_image2 = out_old(upsampling)\n",
    "    # define new output image as the weighted sum of the old and new models\n",
    "    merged = WeightedSum()([out_image2, out_image])\n",
    "    \n",
    "    model2 = Model(old_model.input, merged)\n",
    "    return [model1, model2]"
   ]
  },
  {
   "cell_type": "code",
   "execution_count": 13,
   "metadata": {},
   "outputs": [],
   "source": [
    "def define_composite(discriminators, generators):\n",
    "    model_list = []\n",
    "    \n",
    "    for i in range(len(discriminators)):\n",
    "        g_models, d_models = generators[i], discriminators[i]\n",
    "        \n",
    "        # straight-through model\n",
    "        d_models[0].trainable = False\n",
    "        model1 = Sequential()\n",
    "        model1.add(g_models[0])\n",
    "        model1.add(d_models[0])\n",
    "        model1.compile(loss=wasserstein_loss, optimizer=Adam(lr=g_lr, beta_1=0, beta_2=0.99, epsilon=10e-8))\n",
    "        \n",
    "        # fade-in model\n",
    "        d_models[1].trainable = False\n",
    "        model2 = Sequential()\n",
    "        model2.add(g_models[1])\n",
    "        model2.add(d_models[1])\n",
    "        model2.compile(loss=wasserstein_loss, optimizer=Adam(lr=g_lr, beta_1=0, beta_2=0.99, epsilon=10e-8))\n",
    "        \n",
    "        model_list.append([model1, model2])\n",
    "    return model_list"
   ]
  },
  {
   "cell_type": "code",
   "execution_count": 14,
   "metadata": {},
   "outputs": [],
   "source": [
    "def generate_real_samples(dataset, n_samples):\n",
    "    i = np.random.randint(0, dataset.shape[0], n_samples)\n",
    "    X = dataset[i]\n",
    "    y = np.ones((n_samples, 1))\n",
    "    return X, y"
   ]
  },
  {
   "cell_type": "code",
   "execution_count": 15,
   "metadata": {},
   "outputs": [],
   "source": [
    "def generate_fake_samples(generator, n_samples):\n",
    "    noise = np.random.normal(0, 1, (n_samples, latent_dim))\n",
    "    generated_image = generator.predict(noise)\n",
    "    y = -np.ones((n_samples, 1))\n",
    "    return generated_image, y"
   ]
  },
  {
   "cell_type": "code",
   "execution_count": 16,
   "metadata": {},
   "outputs": [],
   "source": [
    "def update_fadein(models, step, n_steps):\n",
    "    # calculate current alpha (linear from 0 to 1)\n",
    "    alpha = step / float(n_steps - 1)\n",
    "    # update the alpha for each model\n",
    "    for model in models:\n",
    "        for layer in model.layers:\n",
    "            if isinstance(layer, WeightedSum):\n",
    "                backend.set_value(layer.alpha, alpha)"
   ]
  },
  {
   "cell_type": "code",
   "execution_count": 17,
   "metadata": {},
   "outputs": [],
   "source": [
    "def train(g_models, d_models, gan_models, dataset, latent_dim):\n",
    "    # fit the baseline model\n",
    "    g_normal, d_normal, gan_normal = g_models[0][0], d_models[0][0], gan_models[0][0]\n",
    "    \n",
    "    # scale dataset to appropriate size\n",
    "    gen_shape = g_normal.output_shape\n",
    "    scaled_data = scale_dataset(dataset, gen_shape[1:])\n",
    "    print('Data Size:', scaled_data.shape)\n",
    "    \n",
    "    # train normal or straight-through models\n",
    "    train_epochs(g_normal, d_normal, gan_normal, scaled_data)\n",
    "    save_images('tuned', gen_shape, g_normal)\n",
    "    \n",
    "    for i in range(1, len(g_models)):\n",
    "        # retrieve models for this level of growth\n",
    "        [g_normal, g_fadein] = g_models[i]\n",
    "        [d_normal, d_fadein] = d_models[i]\n",
    "        [gan_normal, gan_fadein] = gan_models[i]\n",
    "        # scale dataset to appropriate size\n",
    "        gen_shape = g_normal.output_shape\n",
    "        scaled_data = scale_dataset(dataset, gen_shape[1:])\n",
    "        print('Data Size:', scaled_data.shape)\n",
    "        # train fade-in models for next level of growth\n",
    "        train_epochs(g_fadein, d_fadein, gan_fadein, scaled_data, True)\n",
    "        save_images('faded', gen_shape, g_fadein)\n",
    "        # train normal or straight-through models\n",
    "        train_epochs(g_normal, d_normal, gan_normal, scaled_data)\n",
    "        save_images('tuned', gen_shape, g_normal)"
   ]
  },
  {
   "cell_type": "code",
   "execution_count": 18,
   "metadata": {},
   "outputs": [],
   "source": [
    "def train_epochs(g_model, d_model, gan_model, dataset, fadein=False):\n",
    "    # calculate the number of training iterations\n",
    "    n_steps = int(dataset.shape[0] / batch_size) * n_epochs\n",
    "    \n",
    "    for i in range(n_steps):\n",
    "        # update alpha for all WeightedSum layers when fading in new blocks\n",
    "        if fadein:\n",
    "            update_fadein([g_model, d_model, gan_model], i, n_steps)\n",
    "        \n",
    "        X_real, y_real = generate_real_samples(dataset, batch_size)\n",
    "        X_fake, y_fake = generate_fake_samples(g_model, batch_size)\n",
    "        \n",
    "        # update discriminator model\n",
    "        d_loss_real = d_model.train_on_batch(X_real, y_real)\n",
    "        d_loss_fake = d_model.train_on_batch(X_fake, y_fake)\n",
    "        \n",
    "        # update the generator via the discriminator's error\n",
    "        z_input = np.random.normal(0, 1, (batch_size, latent_dim))\n",
    "        y_real2 = np.ones((batch_size, 1))\n",
    "        g_loss = gan_model.train_on_batch(z_input, y_real2)\n",
    "        \n",
    "    print('dreal=%.2f, dfake=%.2f, g=%.2f' % (d_loss_real, d_loss_fake, g_loss))"
   ]
  },
  {
   "cell_type": "code",
   "execution_count": 19,
   "metadata": {},
   "outputs": [],
   "source": [
    "def save_audio(model, epoch):\n",
    "    noise = np.random.normal(0, 1, (1, latent_dim))\n",
    "    generated_images = model.predict(noise)\n",
    "    generated_image = np.squeeze(generated_images[0])\n",
    "    audio = librosa.feature.inverse.mel_to_audio(denormalize(generated_image), sr=sr, power=power)\n",
    "    write_wav('audio/' + command + '_' + str(epoch) + '.wav', sr=sr, y=audio)"
   ]
  },
  {
   "cell_type": "code",
   "execution_count": 20,
   "metadata": {},
   "outputs": [],
   "source": [
    "def save_images(status, gen_shape, generator):\n",
    "    rows, cols = 2, 2\n",
    "    noise = np.random.normal(0, 1, (rows * cols, latent_dim))\n",
    "    gen_imgs = generator.predict(noise)\n",
    "\n",
    "    fig, axs = plt.subplots(rows, cols)\n",
    "    cnt = 1\n",
    "    for i in range(rows * cols):\n",
    "        plt.subplot(rows, cols, cnt)\n",
    "        librosa.display.specshow(gen_imgs[i, :,:,0])\n",
    "        cnt += 1\n",
    "    name = 'images/%02dx%02d-%s' % (gen_shape[1], gen_shape[2], status)\n",
    "    fig.savefig(name)\n",
    "    plt.close()"
   ]
  },
  {
   "cell_type": "code",
   "execution_count": 21,
   "metadata": {},
   "outputs": [],
   "source": [
    "def save(gan, generator, discriminator):\n",
    "    discriminator.trainable = False\n",
    "    save_model(gan, './saved_models/gan')\n",
    "    discriminator.trainable = True\n",
    "    save_model(generator, './saved_models/generator')\n",
    "    save_model(discriminator, './saved_models/discriminator')\n",
    "\n",
    "def load():\n",
    "    discriminator = load_model('./saved_models/discriminator')\n",
    "    generator = load_model('./saved_models/generator')\n",
    "    gan = load_model('./saved_models/gan')\n",
    "    gan.summary()\n",
    "    discriminator.summary()\n",
    "    generator.summary()\n",
    "\n",
    "    return gan, generator, discriminator"
   ]
  },
  {
   "cell_type": "code",
   "execution_count": 22,
   "metadata": {},
   "outputs": [],
   "source": [
    "def denormalize(array):\n",
    "    return (array * _max) "
   ]
  },
  {
   "cell_type": "code",
   "execution_count": 23,
   "metadata": {},
   "outputs": [],
   "source": [
    "d_models = define_discriminator()\n",
    "g_models = define_generator()\n",
    "gan_models = define_composite(d_models, g_models)"
   ]
  },
  {
   "cell_type": "code",
   "execution_count": 24,
   "metadata": {
    "scrolled": true
   },
   "outputs": [
    {
     "name": "stdout",
     "output_type": "stream",
     "text": [
      "Data Size: (1701, 16, 4, 1)\n"
     ]
    },
    {
     "name": "stderr",
     "output_type": "stream",
     "text": [
      "c:\\users\\user\\anaconda3\\envs\\tf_gpu\\lib\\site-packages\\keras\\engine\\training.py:493: UserWarning: Discrepancy between trainable weights and collected trainable weights, did you set `model.trainable` without calling `model.compile` after ?\n",
      "  'Discrepancy between trainable weights and collected trainable'\n",
      "c:\\users\\user\\anaconda3\\envs\\tf_gpu\\lib\\site-packages\\keras\\engine\\training.py:493: UserWarning: Discrepancy between trainable weights and collected trainable weights, did you set `model.trainable` without calling `model.compile` after ?\n",
      "  'Discrepancy between trainable weights and collected trainable'\n",
      "c:\\users\\user\\anaconda3\\envs\\tf_gpu\\lib\\site-packages\\keras\\engine\\training.py:493: UserWarning: Discrepancy between trainable weights and collected trainable weights, did you set `model.trainable` without calling `model.compile` after ?\n",
      "  'Discrepancy between trainable weights and collected trainable'\n"
     ]
    },
    {
     "name": "stdout",
     "output_type": "stream",
     "text": [
      "dreal=0.06, dfake=-0.04, g=0.06\n",
      "Data Size: (1701, 32, 8, 1)\n"
     ]
    },
    {
     "name": "stderr",
     "output_type": "stream",
     "text": [
      "c:\\users\\user\\anaconda3\\envs\\tf_gpu\\lib\\site-packages\\keras\\engine\\training.py:493: UserWarning: Discrepancy between trainable weights and collected trainable weights, did you set `model.trainable` without calling `model.compile` after ?\n",
      "  'Discrepancy between trainable weights and collected trainable'\n",
      "c:\\users\\user\\anaconda3\\envs\\tf_gpu\\lib\\site-packages\\keras\\engine\\training.py:493: UserWarning: Discrepancy between trainable weights and collected trainable weights, did you set `model.trainable` without calling `model.compile` after ?\n",
      "  'Discrepancy between trainable weights and collected trainable'\n"
     ]
    },
    {
     "name": "stdout",
     "output_type": "stream",
     "text": [
      "dreal=0.01, dfake=-0.00, g=0.01\n"
     ]
    },
    {
     "name": "stderr",
     "output_type": "stream",
     "text": [
      "c:\\users\\user\\anaconda3\\envs\\tf_gpu\\lib\\site-packages\\keras\\engine\\training.py:493: UserWarning: Discrepancy between trainable weights and collected trainable weights, did you set `model.trainable` without calling `model.compile` after ?\n",
      "  'Discrepancy between trainable weights and collected trainable'\n",
      "c:\\users\\user\\anaconda3\\envs\\tf_gpu\\lib\\site-packages\\keras\\engine\\training.py:493: UserWarning: Discrepancy between trainable weights and collected trainable weights, did you set `model.trainable` without calling `model.compile` after ?\n",
      "  'Discrepancy between trainable weights and collected trainable'\n"
     ]
    },
    {
     "name": "stdout",
     "output_type": "stream",
     "text": [
      "dreal=0.00, dfake=0.00, g=0.00\n",
      "Data Size: (1701, 64, 16, 1)\n"
     ]
    },
    {
     "name": "stderr",
     "output_type": "stream",
     "text": [
      "c:\\users\\user\\anaconda3\\envs\\tf_gpu\\lib\\site-packages\\keras\\engine\\training.py:493: UserWarning: Discrepancy between trainable weights and collected trainable weights, did you set `model.trainable` without calling `model.compile` after ?\n",
      "  'Discrepancy between trainable weights and collected trainable'\n",
      "c:\\users\\user\\anaconda3\\envs\\tf_gpu\\lib\\site-packages\\keras\\engine\\training.py:493: UserWarning: Discrepancy between trainable weights and collected trainable weights, did you set `model.trainable` without calling `model.compile` after ?\n",
      "  'Discrepancy between trainable weights and collected trainable'\n"
     ]
    },
    {
     "name": "stdout",
     "output_type": "stream",
     "text": [
      "dreal=-0.00, dfake=0.00, g=-0.00\n"
     ]
    },
    {
     "name": "stderr",
     "output_type": "stream",
     "text": [
      "c:\\users\\user\\anaconda3\\envs\\tf_gpu\\lib\\site-packages\\keras\\engine\\training.py:493: UserWarning: Discrepancy between trainable weights and collected trainable weights, did you set `model.trainable` without calling `model.compile` after ?\n",
      "  'Discrepancy between trainable weights and collected trainable'\n",
      "c:\\users\\user\\anaconda3\\envs\\tf_gpu\\lib\\site-packages\\keras\\engine\\training.py:493: UserWarning: Discrepancy between trainable weights and collected trainable weights, did you set `model.trainable` without calling `model.compile` after ?\n",
      "  'Discrepancy between trainable weights and collected trainable'\n"
     ]
    },
    {
     "name": "stdout",
     "output_type": "stream",
     "text": [
      "dreal=0.00, dfake=0.00, g=0.00\n",
      "Data Size: (1701, 128, 32, 1)\n"
     ]
    },
    {
     "name": "stderr",
     "output_type": "stream",
     "text": [
      "c:\\users\\user\\anaconda3\\envs\\tf_gpu\\lib\\site-packages\\keras\\engine\\training.py:493: UserWarning: Discrepancy between trainable weights and collected trainable weights, did you set `model.trainable` without calling `model.compile` after ?\n",
      "  'Discrepancy between trainable weights and collected trainable'\n",
      "c:\\users\\user\\anaconda3\\envs\\tf_gpu\\lib\\site-packages\\keras\\engine\\training.py:493: UserWarning: Discrepancy between trainable weights and collected trainable weights, did you set `model.trainable` without calling `model.compile` after ?\n",
      "  'Discrepancy between trainable weights and collected trainable'\n"
     ]
    },
    {
     "name": "stdout",
     "output_type": "stream",
     "text": [
      "dreal=-0.56, dfake=0.44, g=-0.14\n"
     ]
    },
    {
     "name": "stderr",
     "output_type": "stream",
     "text": [
      "c:\\users\\user\\anaconda3\\envs\\tf_gpu\\lib\\site-packages\\keras\\engine\\training.py:493: UserWarning: Discrepancy between trainable weights and collected trainable weights, did you set `model.trainable` without calling `model.compile` after ?\n",
      "  'Discrepancy between trainable weights and collected trainable'\n",
      "c:\\users\\user\\anaconda3\\envs\\tf_gpu\\lib\\site-packages\\keras\\engine\\training.py:493: UserWarning: Discrepancy between trainable weights and collected trainable weights, did you set `model.trainable` without calling `model.compile` after ?\n",
      "  'Discrepancy between trainable weights and collected trainable'\n"
     ]
    },
    {
     "name": "stdout",
     "output_type": "stream",
     "text": [
      "dreal=-12757.22, dfake=8047.08, g=-2701.48\n"
     ]
    }
   ],
   "source": [
    "train(g_models, d_models, gan_models, X_train, latent_dim,)"
   ]
  },
  {
   "cell_type": "code",
   "execution_count": 28,
   "metadata": {},
   "outputs": [
    {
     "data": {
      "text/html": [
       "\n",
       "                <audio  controls=\"controls\" >\n",
       "                    <source src=\"data:audio/wav;base64,UklGRiR8AABXQVZFZm10IBAAAAABAAEAgD4AAAB9AAACABAAZGF0YQB8AABgAJ8AdwBCAPL/qP/N/9r/MADg/53/HQAuAA8AIgBaAIoArgBTAPT/GwDAAKgA1//R/08ABgD7/zcARwAWAKr/PAAiAHsA6f9tAJIAp/8IAGEAUgDa/zEAcv/H/+//TQD8/3L/4v/T/yoAPgACAAgAHQAyACUA+v8HABgA+P+7/6L/rv8fABQA8f+v/67/GgA2ACcA6P/3/w8At//A/1oA9P+u/6f/qf8MAP//EgD4/+T/xv/i/wcAegAAANL/v/8bAD4AEQAtACcA6/98/x0AjgBFAKf/wP8iAO3/OQBeACcA3f+7/zcAdgCQABcA3P8VADYA/P9cAP3/0/+4/x4APQAWAFQAOwBmAP//BQBxAGwA9v8pAPH//P88AB0APwAcAL7/zv8pAC4ADQDx//D/HwAMADcAHgBKAEEA2f/z/2QAWgAtAAYAAgBFAB8AMwBoAAAA+P8VAAAAKAAeAAsA3P8gADkAJgA/ADAATQA+APv/KABjABwABQA+ABEA9P8OADcA7f/x//j/DgD//xUA/P/1/1wA5P/V/8P/6P8TANL/AgDG/7r/MABLAAcADQDk/zgA3P/r/xgAsP+d/6n/rf93/wkAt//c/wYA3f8xAD0AUwAvADkA8v/8/2YACwDg/8f/AQDP/9T/AQAXAPP/EAD5/xIATAAxAEcA//8jAA0A//+CAFoA/f/a/wUAVwAuADUAAgDa/+b/PwAyAPr/DADW/w8AIwA9AA8ANQBFAAAABQAnAEMApf/n/woAo//p//f/u//1/wYA6/8UAPD/6P8EABIA9P+9/9P/wv/b//v/AADb/8z/3P8UABQA9f+t/7f/2f/P//X/6P+o/6T/yv/f/+3/DgDp/9H/IwAkAC4AaADs/7j/zv+5/+T/sv+j/2H/nv/Q/9b/AACx/7P/5v8bABYAEAAmAAwAQwA4AFQAIgDv/wsA5P/Y/7n/i/+K/3j/bv+k/47/g/+w/9H/5P8VAB8AFgA1AEsAXwBYAEcAMgA4AA0ACwDs/83/tP+I/4v/vP+J/2n/h/+F/8D/qv/d/9f/9f84AE4AYwCEAIoAZACaAGIATABQAO7/yf+t/3n/W/8y/yr/NP8b/0n/bP+V/+f/IwAjAGQAmACpAMEAkwCqAIEAXQA0AA8A2f+B/2f/G//0/gL/6v7T/gz/Rf9y/4P/0v8cADMAIwBbAHYAfwCMAGkAewBbAC4ACAD7/9D/o/9m/zH/Ov84/z//9f7u/r/+6f44/yX/V/+k/9T//v+dAPoAEQHzAPcADgEJAbUAZgAIAJ3/Qv/d/pH+hv4//hD+Hf5d/rf+Bf9g/+P/TQCXABsBZgGpAbcBlgFhAfMAvwAyANT/Rf+//mb++v0n/hX+Lf47/mr+1f5v//7/TQCBAMIABwFDAVgBLAEAAcAAjgBrAC4A8f+Q/0f/Bv/g/r/+p/6c/rP+uP7P/gr/SP+D/8r/AQAvAGoAowD3ACQBQQE+ASMBAAHwALUAfwAAAGn/BP+t/oL+QP4c/ur9Hf5s/tX+fv/5/3sA6wBrAecBKQJdAisC4wGbAQsBpwAZAI7/7/5q/iL+Ef42/j7+iP7S/lP/2v9qAPoAUAGoAb4B5wHjAa4BdgELAbAANQDY/77/gf9T/03/Pv9Z/4b/rv/p/wAAEQAgAD0AVQB/AI8AjQCWAJwAxAD1AP4AAgHfANwAtADBAKIAbwAgAO3/uP+s/7D/c/98/3L/ff+w/+H/PQBcAJUAwADtACIBNQFJASwBBAHoAKYAlABzADcACwDe/9X/tv/L/8L/zv+8/9r/6P/7/xAAJQAXACYAPgBqAH0AmACmALoAygDRALgAsgCEAF0ALAAUAOn/7P/U/8v/w//D/73/yf/R/9T/2//r//7/BQAwAEEAWgBZAHAAcwB7AIIAhABvAF8ANQAsABAADgDh/9f/qP+5/6j/vf+y/8L/sP/J/9f////4/xwAHwAzADoASgBNAE8ASgAtADcAKAAaAA0A8//Q/8X/rf+Q/43/l/+E/5T/kv+y/7b/6f/u/xMAFAA0ACcARgBAAC4AHgASAPv/+P/f/9z/wv/K/7L/x/+1/7n/t/+z/7j/uf/U/9H/2f/k/+z//P8DAA4ADgAQAA8ACQAhABIAHQAMAAsAAgAAAPT/4//R/8v/tP+r/6//t//F/9D/2f/y//r/EQAZACwAMQA4AD4AQQBLADoAPwAuABkAAgDt/9P/yP+9/7r/vP/H/9D/5f/3/wgAIAAzAEUAVQBUAEYAPQA2ACMAGgAdAAYABQAGAA4ACgAKAAkA/v/3//H/7v/1//P/AgD7/w0ADwAQABcAEQAKAAIAEQASABsAHAAmACQAJwAkAB8ACQANAPT/8f/o//T/7P/1/+3//f/9/xEAGQAsAB8AIgANAAcABAD3//z/3//q/9n/6//q////8v8BAO//BADz/wwA/v8KAPn/FAAFABoACQASAPn//f/e//T/3f/v/93/6//r//P/6f/3//X/AgAEAAwAGgAaABYAAAABAPD/4v/N/9b/y//f/83/9//z/yIAAQAgAAIAGQD2/wkA8P/5//D////z/wkA+v8MAPb/BADs/wAA8v/5/+r/7P/p/+X/6f/q/+f/5//q//D/8f/+/wAAAQAJABIAHAAOABIA+/8HAO3/9v/l//n/6f/t/+D/7//f/+n/4f/x//H/CQAJAB0AGQATABMAEgARAAgA+f/0/+L/4P/r//T//f/4//j/8v/s/+L/5//s/+X/6v/v//H//f/8/wgA/P8DAAAACAD5//3/+//1//3/AwABAPL/9v/x/+7/7//t/+z/7f/3//3/8P8AAP3/+P/u//j/8P/y//X/8//6//j///8JAAwAEwAJAAgAAgADAAUA/P////v/AwDz//3/9//m/+//5f/8/+n/BQAOABgAEgANABgADwAHAAAAAAAFAP3//v/7//j//f/5/w4A+/8IAAYA+//3////+//7//f/AwD6/wkABwALAAcAFgAjACkAKgAkABoAEwD7//3/+f/8//b////t/woA8/8LAPv/EAAaAAQAHAABABsA6/8CAPH/DQD//wsA+v8GAPn/FQAKAA4A+//7/9//0f/J/+H/8v/q/+3/BQD6/w4ACgD9/wsA9v/5//L/+f/7//P/6v/4//r/CQAPABIADwAZAAUA/P/7//n/0//i/9D/4//j/+z/3//5//j/BAAEABgAGAAUAA0ACgAAAAAACAD4//n/5f/v//b/+v//////BAAJAAkABwAKAAcA/v/q//P/8P/x//f/8P8PAAEACAANAA8ACAAHAA0AEQAIAAUA/v/3/+r/3f/k/+f/4f/t//T//f/+//3/DwATABUAJQAxADMAFAAPAAIAFAD7/x8ADQANAA0ADQAVAA4AEgAKAAcAAgAKAP//DgAIAAAA9P///wAACgAAAAUABQAGAP3/FAAXAA0AEgANABAAHwAPABEAAAAEAOz//f/2//z//f/6/wAACwAAAP//DwDy//f/9P8GAOn/DQAEABYACAADAAEAAAACAPn/8//x//P////4//j/CwALABQADgAaAP3/BgADAAkA/v8MAAEABAD+//D/+P/0/wAACwD//wUACwASAP//FwABAA0A+f/x//D/9//x//r/BwANABcAIwAWACMAJAAWAAQACAAWAPv/AgDs/+n/2v/n//D/DwD7/w8AAAASABAADAABAPH/7//p/+b/8f8CABgAFAAaABAAJAAaACcAHwAfABQAIwARAAgABwD6/wcA8f/4/wAADQAKAPz/+f8AAAsAEgAMAAkABgD///T/8P/v//T///8AAPr/FAD+////4v/k/9r/6f/i//D/6v/o/97/7v/p//3/AwAPABIAEAAPAAoAEQADAPz/9f/t/+X/4P/f/+r/3v/r//r/AgABAAoAGAAbABcAGAAsABsABwADAPD/DgACAAAA9v8DAAUAEgAIABEAEQAAAPb/8P/6//D//v8DAP3/AQAAAAYA///5//j/AAD1/wwAIgAcAC0AIQAvACoAJwAiACIAFgAJAO7//f8DAPj/7f/b/+H/2P/3//v/BAAbAB0AHAAbABIAEAD4/wkA///+/w0AFAAlABIAGgAVAB4ACwAEAAQA9v/4/+f/AgD9/xAADwAlABEACgD+/wEACQD8/wAABAAZAB0ALQBCAEEALQAyACUAEgD3/+P/2f/G/7j/uP+x/8v/yf/o//L/EAAiAB8AJAA8ACQALgAMAAwAAQD6/+n/7v/l/+n/0P/R/87/0v+4/8L/1v/l//f/8f/6/wkAAgAEABgAEgAuABgAJAAnADMAGwASAPv/9f/Y/+D/zP/d/7T/yf+t/7b/wv/Z/9/////w/xMAHwAmABYAIQAJAP7/5v/a/8//v/+q/6r/r//B/9f/8/8LAAkAIAAKABMACQD//+3/4v/W/87/rf+m/4n/mv+J/7//w//7/wQAJQA3AFAAWwBOAEgAOAAVAAAA2f/U/7b/oP+B/4T/fP+c/6r/zf/n//v/EAAnAEQAQQA+ACsADgD8/+n/4f/b/87/5v/i/w8ADQAxACoAMwARAAwA7v/f/+D/wv/k/9b/1P/d//f/CAAAAAcA//8XACwARABaAGIAWgBPAFQANAAbAPv/1P/F/7X/pP+4/7f/vP/H/9j/BwAXABcARwBQADUANABFAEwARwAmAAYA+f/f/9v/6f/b/9r/zf/M/+//AAAFAA0AGAALABcAKAAqACwAGgAkAAIAAAD3//j/1//Z/+L///8MABUAIAAnAAIAEgASAA0ABgD9/wAA6//u/+v/AwD7//3/7/8UABEAHgAeABgADgADABIAHAANABQAzv/U/6T/xf+Z/7b/0P/w/woAIQAkADcAMgA5ACcASAAwADYAIQAIAOr/1/+6/7v/xv/M/8v/2//o/wAAHQAUACYAFgA3ADAAMgAcAB8AGQAOANn/DAABAO7/xv/H/67/0v/B//D/5P8DAOn/CgAcABoA7v/+//r/+v/p/w8A+f8LABkAJAA1ADUANgA2ACAA9f/v/9r/3//I/+X/y//P/8//2v/g//n/3f8mACkAMwBYAGUAMgA6AAAA9//0/+n/1v/c/+3/4v/x/xEAFwAIAOz/CQAVABgAHQAeABgA9f8BAAkADgAKAAcA+/8bAB8ASwAzAA8A/f/g/+T/8//h/xUACAD4/wQAGgAfAPf//////wcAEgARACEALwAMAA0ADwAcAC4AFAAgADcAFgD//wAA5//b/9z//P8QAAEAOgBOAFUAJgAFAAgA7P/b/9//4v/7//D/3f8AABYA5v/e/xoADwAHAA0AKgArAPD/5//5/x8AHwDk/xIAMwAkAP3/AAD6/+L/3v/9/xkAJwAcABIAEQANAPf//f/f/+j/BQDy//n/EgAaACYAIQA0ACcAAgAdAOD/6/8UAOr/3/8BAAAA8v8KACYABwADAB0AMAAmAB0AFgAAAP//3P/c/wQA6f/X/+//FgD4//n/GAD8//v/FgAFAB8AQwAsACEALwDo/+z/6f/Q/+3/9v8EAPb/BgAPAAAAHgD9/+3/vv+//9n//P8tACMAMwAqACYALAAfACcA5v/N/wIAAwD3/9//AwD4//X/1//w////8//4//X/IQA/AAAA7v/v/+n/9f8QAAUAGABBAAQAFQA0AC4AEQDk/+v/uP+n/9P/0f/q////5v/7/xAAAQAyAB8AFAACAOv/u//g/9X/1v/i/8H/7v8nAE8ASQBCACMANAA5AP//8/8WAOL/y//+/wIA7f/G/5f/tf/V//P/7v/8/+T//f/j/wwAfAA2AAsAEgAHABEAKwAkAD4AKQADACIALQAXAPn/0v/f/wkA4P/O/wAA9P/+/8b/AwAzADQAEwDR/wcAKQADABMAEgDy/9v/1f/T/+f/DwAMAAgA8f8nAEIAFQAEAO3/2P/f/7L/9v8jABMACQATABQADQAOAAIAHAAxABcAHAD8//v/EwC1/9j/GADw/+f/DQATAND/lv/G/wAAzP+d//7/HgDV/6L/of/4/yMAFgAbADIAPQATAO//9P/W//n//P/z/9b/y//W/8f/IgA+ACgAGgDr/yQAYAA5AD0A0f+x/+b/uv/5/yQA8P/p/7f/0f8MACwADADr/+//5f8EADgAKgAvAAgA+f8HAOn/GwA7AOT/3f8AACoAJgAsAC8AIwAZAM3/2P/f/ygAJACn/7v/w/+r/9f/4/8bANX/v//b/yEAIgD+/wsA5//N/wUA8//s/yIA///2/wIAQABGABkA1P/i/ysAAgDs/woA6//3/+P/p//r/0YAQwAhAAcAOwBEACIAXABaAAAA4//I/wQAQgAfAO7/n/+8/xMALABKAEkACQD2/+3/HAAZADEAxf+J/4X/iv/N/7v/wv/M/9v/0v/T/w4AJQDu/6//qf/i/wkAAQASACoAEwD//+b/EwAxAP//yP+u/9b/GgAYABEA9//F/9P/2v8HAFIAMwA5ADgACAAbADYAAwAJAP7/8f8GAPv/0f/R/9T/3/8TAGEAnACQAEEAGgAGAPD/2//0////w/+o/8b/8P/o/xMAPAApACUAKQAvAE8A/v/g/+P/y//Q/67/wP8RABcA+//4/zUAGADx/wwABgACAAUACQAuAO7/wv/C/9X/+/8CAOj/zP/B/6v/oP/W/97/xv/e/y8ASAAvABsATgBNAPj/AgA3AGEALwALAMr/7f8AAMf//v8bAAEA2P+f//7/JAARAB8A5v8QAE4AOQA0ACgAMAAAAOX/5v/C/77/d/9u/6H/pP+p/8D/9//k/+z/6v/0/zMAbAA9AD0AVgAmABgABQD7/yQANQAGAC4AVABFACgA7/+1//D/DgAWAAEAx//Z//r/4f/d/wkAHgD//9z/CAA2ACYADABIAC8AEgAPAB4AJwDK/7r/8v/O/9n/3//U/+D/2P/2/zwAXgBlAD4ASQAkAPv/DQAQAPb/5P/U/9X/9v/z/97/2//6/wQAMQBCAHAAYABJADUA7//k//7/BQAiAPH/1f/S/7b/qf/K//3/GQAXADgATACGAE4ADwAqABcA8//9/xYAOgA2APf/3v/0/xcA0v/W/w0AKgAfAPH/1/8AAAUAxP/9/ygADwDz/+j/XQBZACcALwAeABEAOQD0/x8ASgACAOj///8WAPj/7f8CAAcA4//L/6P/pf/Q/8X/xf8QAPv/CQA3AB0ABgANAPH/9P8SAAwADwAIAN7/BgDq/+X/1P/B/9T/AQDv//z//f/3////AADe/wsASgACAAkA/f8AADoAGgAaACMA7/8RABkAKAANAAcA4v/d//r/5f+8/87/u/+m/8b/3f/1/wEACQACABwAMQBFACUA2v/0//7/GgAWAA4A/f/Y/7f/6f8nAOT/rf+p/83/7/8RAGQAhgBAAPv/CAAEAOf/7/8AAAsA8v/l/ysAcQA6AOj/4v8FAPj/6f8gADkADADr/wwAMgAcAAsA+f+6/5r/wP8BACAA8f/s//j/EQAxAEcACgAAAMb/jf/0/ywAKAD4/7v/7f+9/8T/9/8SAFYAZQBCADwAaABCAN7/6v8BAPD/9//k//7/JQD3/+v/8P8ZADMA/f8hADMALADf/9P/yf/J/+P/CwAuADgABgDz/+L///8VAPb/8/9LAEEALwAfAEEA6//a/9D/tP/3/+j/8v/t/7//4P/Y//7/SAAqACUAEQAZACYAMAD6/ywABwDS/9H/3v8cAP7/vv/L/8L/AgAHAAYAHAAWAOb//P8KAF0AMQD+/wQAGQDU/5n/yP/8/wMA5f/7/yAA/f/r//X///8FALb/1P/d/5r/pP/o/+//4P/K/8z/CwAOAO//TgBgAC4A+v8fAAUA7v/g/wMAEQDh/7r/3//y/wAA1//A/9b/2P/z//3/DQAvACcAAwAVAAcA5v+2/8D/6v/y////9v/f/9r/zf/s/xIA/f/s/w8A3f/s/xQAAAALAAMA0v/U/xEABwAoADwANAD9/8L/4f/0/xAA9f/+/zoAOADS/8D/LQAkAN///P81ACEAIAD6/+L/BwDy//z/FABDAG8AIwD1/9X/mf+R/4D/q/8CABQAHAAKADsARgAOAOv/+f85ACIAGQAVACwANgDd/+P/CgD7/xYA+v8EAAYA6P/e//f/+v/5//z/CQAHAAsANwAaAO//2//f//f/AwAbAPf/BgAdABQAAQAwADsA///5/xYA/P8OAPv/8f89AO7/0//b/8v/0f/o/+L/9f86ABUAGwAuABoAIgDw/9z/zf8QAHcARABKADkABQD1/9b//f/o/7f/xP/e/+L/4f/m/+3/2P/4//v/PgBMADEAOgA0AOv/5P8XAAwAIQALADgAMQAJABIAGwANAOf/0f/b/x8A9P+v/9f/9//V//n/UgA4AAQA+f8gAFUATgAaADQA4P90/5D/3P8uAP7/uP/z/xQAv//Q/zEANwDS/8X///8gADoA+v/Y/wAA1//W/wIASgA7ACMA2//z/z8A3P/S//D/6//Q/6P/3v8uADMAMwAPAP7/IAAyAO3/FAAgAPP/1f+L/9D/UAAmAOL/1f8BAPb/FgA7AHAAcQAHAAUAGgAvADsA5v+v/9j/wv/F/8f/6P9TAF8A/v8MAEYAHgDq/wYAJgAuAPn/3//o/9D/n/9+/67/BgApAOv/IwBcAA0A8//o/wUAKAABAFMAhQCIAH8ALgDr/9D/0P/t/zUALAAhACkAJwAnAEYAYQAEALr/4f8UAPT/9f+r/43/uP+y/7//0f/7/+n/u//J//7/DwAsAEMAWwA6AGIAeQArAEkAEwAAAAcAxf+Y/4v/3P///73/5v8AAC0AIQASADEATgAbAK3/xf/3/+P/vP8PABUAEgD8/9v/sf+j/wcAFAAfAA4AGgA8ANf/7P87ABIA7f/x/9//HQAUAP3/MAAqAPr/PgAoABIATwAKAB4AIwC8//f/JQAFAPv/xP/j/wUA4P/N//j/+v++/73/IgAvANz/ZP90/wAAZwBiAFgASgBHAP7/ov/j/yQA9v+6/6v/9/9IAAcAv//W/zQAdgAoAC4AgQBfADUARQBhAEwATQD4/xsASQDl/5//g//P/yIA+P/X/wkAPQATABcAnABdAJr/df+9//7/4P/z//L/w//F/9H/yf+4/zoADAD0/0IATQAZAJ7/jv+f/4z/h/+z/9X/4//8/wwADAAYACYADwANAGsAigBsAF8ADQDH/+D/w/+4//b/PAAuAAAAKACCACUAdv/L/z0AEgAlAEYAYgAZAKT/9f86AEEAAAAlAJIAaQDx/7X/AgD//6X///8wAOz/w/9i/6L/uv9k/wsAlABLABwAAADz/+L/qv/n/0MAJwAKAEoAJgB7/wr/IP/I/xwAp//+/3AAAQBg/0z/5/84ABUAvf8DAGwA6P+Y/xEAdAAeAM7/r/+u/xkAAADW/1UAHQAEAFYAWQBcAGwAcwB6AIoAqwC5AJEAHQDd/wEAwf/9/zoALwCHAEMA2P/U/8r/6//l/+H/7v/i/w4A+f/v/18AIwCO/4L/sf/S/6r/Zf9J/3v/e/+j/47/sf8gAN//sv8vAGMATwD9/+z/RgAeABkASwAfAPT/DQAHABcA8v+s/8L/3f+s/3j/MgByAPf/yP+r/7H/w/+w//n/MADq/7r/AQBSABUA7f8kACMAFAArACsANwDq/73/oP/C/8j/4/9ZAHkADQBKAHYAXQCCAGIANwA9AM7/yv8JAPT/nf9D/5f/TABEAAwAQgApALL/Sf9P/8f/zv+W/wAAJQANAAsAJAAqABcA7/8zAGwAhABlAFQAVgDx/4T/3P8ZAFQAEAC3/wAAKQDW/6T/5P8NAOr/h/+V/yAAMQCw/2z/GACjAJIAXwDBANQAMADJ/+b/LwDJ/3j/hv8AAFYAaAANAM7/lP9+/77/BwAkADkAFwDE/6f/z//P//P/0v+K/+7/NQCFAK8AYwByACEA6/9AAGYAXwBVAGQALwDl/wIANABWAB8Av//p/wsANgAQALn/qP/H/wMA+v8NAC0AHwDs/6//sv/N/7v/oP+l/+v/QAAgABAAIwAcAMD/vP/6/xkAQgC5/5L/9f/f/6D/n//c//v/8/8XAIEAtQB6ABAA5v/Y/9D/wv/0/zYAMgA2ADAA8P+O/zn/fP/b/+T/8P81ABwA4f/0/xYA7v+L/43/z//R/73/7P8eADgAAQCV/7L/RQBoABwAHwBAAA4A0P+8//L/WgAeAKP/tP/Q/9P/oP/D/zMAMQDi/xIANQA5AAMA4P8NAEkAQABMAEEAGADm/7r/GQAlAAIANQCWAFAAAAAUADkAPAAEABoASAA4AM//jf/c/+7/vf+Q/8n/RgBfAEAAFAAaAAkAx/+9//7/UQBiABgAoP+M/9j/1f+q//7/iwBtABcAAACaAI8AAgDJ/xMAcAB1AHUAqwDGAEcA0f+u//H/FADI/+j/MgAoAAoA4f/Q/9P/oP93/5T/uv/r/87/9v/8/8//zP8VACEAGAAAAAAADgDz/8L/LQA6AOz/AgBRAF8ALwDe/+D/7/+s/4n/AgB5AGUAOgCLAOMALgCv//f/HQAsAML/of8ZAPr/zv/W/xkALgDq/8X/AwA5AHsAswDnAHEA9v+z/6f/of+k/wEAKAAYAAcA2f/1/9z/xv/T/+j/7P/C/9v/FAD+/7r/k/+m/9////8XAF0AeAAfAK3/s/8EAOf/FgBrAI8AfQBGAA8AHQD5/8n/o//T/zEAMAD2/+T/zP+m/7j/2//5/xgAz/+V/7H/7//J/5T/pv+K/4//nv/n/xsA5f+F/2T/rP/4/yMAbQBQAOn/gf+W/9T/+f8AAPP/HQAlAOn/FwBvAGEAzP+a/9T/SwB2AD8A1f+A/0f/f//W/9P/+P/s/8n/vP8AACQAEQD3/yEATQAqABoAIwA0AAIA0//7/1cAcQAaAOD/1//V/9z/IwBXAEQAPwA/ADUA9f/G/+T/4f/B/6H/CwBQACUA8/88AHQAJQD4/0kAdQAjAA0AVgB6AH4AcwCXALsAZAA/AHEAbAAjAOP/+f/2/8P/qP/N/xEA9//2/xgAFgD1/9v/4P8GAOD/g/+e/+P/mf9k/7v/GgAKAPX/8P8lACQA8/8xAC0A8f/R/+n/9//h/57/h//y/0sAPwAqAC0AQgAAAOD/BAAdAA4A7/8AAAoAHwD8/+3/+/+p/6X/GwBvAIkAUgAeAPn/tf9Z/0r/gP/C/5//Sv8T/yD/YP+N/77//f8aAA8AKQCVANQArQBIAOf/3/8HADEAIQAHACkATQAOAP//MgA6AM7/dv9P/47/uf+//wQAMgAoAOD/4/8tABYAwP+2/+j/IQAlAPf/9P/h/7j/kv+//xgARwBRABIACQAEALH/dv+G/xQAdQA9AD8AcgB3AAcA3P/y/w0AGQAAACQAUQBFADcAOQAsAPb/qv+C/5//tv/Q//v/x/+G/7v/FwBSAFMABQAOACgAUACFAHgAhwA9APb/FgBTACcA7v/y/wYAOQBFAEoAOAAXAPv/EAAxABwAEAAjABoAVQBBAMz/nf9n/1n/bP+Y/8H/6f/u//f/IQDo/+L/2f+m/+j/awCfAG4ARQA0AOj/mv9t/6D/7//1/+v/DgArACEAIACBAM4AsABZAEcAWQD8/4j/WP+d/1//Av8T/7v/IgAJAOL/MQCBABYAf/+y/7cASgHuAIkAPAAJAND/pP/n/zMALgAsAE8AlQCZAEEA/P/5/5cA5QB+APn/2/++/z//6v4H/yv/Wf9Y/4j/+/8AAIf/d//X/0MAGQC//9j/AQAaACoAKAAwAC0AIABOALEA8wCeABUA8v9cABgBWwHuAFwA9v8vAJcAaQAPANj/1v9nALoAogBIALH/Uf86/1v/4P8yAKf/Mv/2/vr++/7b/vr+Q//F/2sAZgCo/x//Tv9h/8j+vf5+/xMABgC3/ycAgAAQAAYAYgCPAGcALQBAAGgAEAC3/xQAmABSAP3/9/8QAPL/lf/8/8oABwG5AEMAMAAoAPL/3/8RAIUAnQAtAP//GQAoAAAAqP8KAJoAkACMAMYAGQHcAHUAOwBFAJAAUwBAAIMAeAAlAD4AjgBuAIj/8f5H/8X/ef/w/vz+Q/9c/wT/CP8x/9b+x/5u/+L/1/9s/2H/r/9+/wf/Av9y/7X/ff9c/7f/mf8Y/xP/N/99/w8AeQC+AAgBNwEYAboA0ACxAYMCGQLSAJIABAG+AOr/x/+LALQA9v+E/3wATgFAABX/yv/UALgA9/8dAB8BygA2/xv/cQDrADsAz/9UAKEAEgBm/7D///+D/2f/9/9PAOb/mf+o/4v/Ff8Y/7T/+P+R/0n/LAAQAboAvv+p/yYAPAAXAEQAkwB5AAAApf/F/wwAQQBnAFIA8f+N/4n/m/+H/z//FP8s/0H/X/+9/yAA/P94/3T/zP/s/8f/CQClAJ4A/f+N/wgAwQC/ADYAcQBBAZsBEwGrAKkAggC5/0//mv9GAIYALAAIAGYAjAByAH8AsQDEAGAA5P8RAGEAAwBh//r+/P47/0H/hf8mAFIA6v9+/3//5v8QAJD/Hf/h/vz+J/9W/3j/jP9j/5D/tP87ALYAqQBTAOb/wf/x/w8AAADW/9H/+/8cAPr/GwANAGz/4P78/oH/6//z/+//8f+s/0T/3P78/k//Tv9v/wEAhwCHAAYAvv+N/1X/X/+5/xcApwDpAK8AyQCfACEA7v/m//P/EAAPAEMAVQD7/wwAUgBoAD4AOwBGAG4APADN/8z/FwDw/6z/4P96AKYAawBtAIQAcABIAFcAjQC/AMEAlQCkAL8AiQAtACgANQADAND/2v8NABUAyv+N/7X/CQDp/4T/eP+h/6r/nf+5//n/RADo/5L/uv/K/7b/of/r/30AkQAIAMH/JQCdAHgAMQBYAKIAjwAoABIAVgBZANr/Zv+N/yEAbQBTADMAOwAqAM//a/+8/ywAXwAyAAcANQBpAEkA7f/N/9z/EgAoACwAYwCwAHcADQD6////xv9B/y//nf/o/6f/NP9i/7H/ov+B/7P/7//1/5b/a/+3/9T/3//A//n/JgAFAOD/7//9/9z/i/9T/5f/BgBTAG8ARwBlAHsAXgAjAC0ARQBbABkA4v81AGsAKgCz/3f/d/9y/0P/W/+r/+f/5v/I/8P/9P+R/zb/Qv+M/8P/BgAgAEgAPADj/5n/jP/f/2sAlQCuAIwAbAA8AAgA0P/E/6n/hv+h/9P/BQAJAN3/lv9y/37/7/9NAEIA1f9i/xv/KP89/3j/vP/N/6T/uP/u/ysAGAABAPj/BwASAFcAlwChACkAqv+c/+v/NABnAF8ANAAxAD8AUwBZAFMAZABeAFcAiQCxALEAfABuAFUAPQA5AFMAZwBPAO7/w//t/zAANABbAJEAnQBrAGYAhACnAGoADADc/ygAYwBhAGgAZAAhAOz/4f/0/xcAMQAEAOH/yf+d/4P/bf+D/4//lv+Y/5//pv+y/8j/8f///+7/0P/0/wgAHQAQAP3/1f/W/+f/FgAhAPX/0P/p/+7/6P/7/wEACwAEAOD/3v/W/+7/9//5/w4AKAD9/8b/rf+n/9b/JwBpAGgAVgBHAFsAdwBnAC0ADgAOADMAUQBZACkA2/97/5v/9P9NAHsAigCmAJ4AcQAxADMATQA6ACUARgCKAKIAWgD9//X/HgA6AFIAcACYAHwAQAAYAAAA4v/n/wwATABeAAYAcP8X/xr/MP9P/6n/KQBuAEwAFAAQAOv/ff8z/0n/mP/D/3//Wf97/4D/M/8B/zD/j/+q/5L/iP+L/0P/4P64/hL/aP9p/2L/XP9q/4r/9/9mAI4AUAD4/xMASgA8ABMA+f8aAEYAbQCiAOEAuABGANf/7/9tAJ0AgQB6AH4AbQAwAPn/2v/f//D/LwCjANcAogA9AA8AFgAcACsAOgBSAH0AqAC/AJsAOgDR/9b/CQBKAJMAwQCwAGMA///X//P//P/U/6T/d/9+/6b/5/8QAPb/wf/Q/xMAWABlADoACgDp/9j/BgBZAIMASQAAAAIAQgCVAJsAewB8AJEAagBPAFoAVgArAOf/3v9iAPMA7AB6ACAA5f+//5X/jv/k/w4ACQAkAFAAVwArAOv/z//Z/7P/pf/m/y0AHQC2/1f/MP9C/2//if+9/97/2P/X/+n/3v+e/1L/X//F/xYABQCc/zH/8v7X/tv+9/4X/0D/Y/+U/8j/3P+u/2D/S/+p/ywAegCCAGAAHQDr/9//5P/r/xAAKgBDABwA0P9o/yr/Jf8//2r/p//c/xYAFADT/3X/VP+G/+L/TwB8AIoAZQA8ACwAMABBAEIANwBqAJwAjgBhAFMAWACNANAAGgEtAeAAjACFAL0A5ADDAL0A9QBEATkBBQHTAIEAFADW/+P/WgCpAEsAy/+w/+//CADh/8j/9v8DALr/af9x/6X/iP/2/tj+MP+O/8n//P8xAEwAJwDw/9L/5v/3/+j/6v/+/xIAMQBDAC4A8f+3/8z/AABsALIA3gD+AP8AzQCUAGYASgBJAD8ALgD9/8n/xf+f/0D/9/7a/u/+Jf8h/x7/WP9t/z//9/7o/vT+A/8o/4f/2v/L/1P/7P7L/uX+2f6v/sH+Mv93/57/z/8cAGAAUAAuAEwAaQAkAAsAJgBKABYA3f8DAGYAqQCUAIUAuwDpAM4AvADxAAcBrAAgAEwArACSAAMAuf8AADoABwAEAGIAdgARAKz//f+OAGwA3f/Q/y8AZgAMAOL/PgB2APb/m//7/7MA3gBtACAARABgAFUAVwCpALYARgAFAEwAvACxAFMAOwBZADcA8f/C/9P/sP8g/5j+n/4F/y//Dv82/4H/mv+c/7b/5f8UAJ3/Av8L/3b/rf97/y//YP/F/+L/u//X/2MAtQBfADwAyQBGAQkBWAAZAFIAdAA/AFwA6gBrATsB4QD5AGsBigFwAVABNAESAdQAkwBHANr/Nf/F/p7+jP6c/sv+vv6C/lT+Qv4//kr+U/52/oX+bf44/nD+4/72/q7+uP5e/xgAJQAUAH4ADQE6AeUA2gBqAaEBMQG9AO4ASAEHAVQA7v/4/+j/lv+G/93/9//M/6//9f9UAE8A5P/L//X/8v/m//D/AAAcAAgA//8OAD0AjQDSAM0A5AAJATIBNwEcAfsA+QD6ANEA3AAsAUkBGgHqAPwAMAFIARwB6ACsAEwA7f+H/03/BP/g/tj++P7x/tb+qv6p/o7+V/4//pr+Fv8x/0z/nf/K/+b/6P/o//n/EgAqAGAAhACmAJkAdQB3AFcAKwAuADwARgB0AIsAiwBmAEwAKQDq/5X/cP9k/2P/O/9O/3v/h/9s/47/0P8hADUAHgA7AGAAOAAaABwAXAB2AIAAuwAcATsBJAEmATkBAQGqAJkArQC/AKIAmgCqALcAnABsAHAAlwB9AHMAYAA/ANH/lv+K/3P/JP8a/zD/U/9t/4P/h/9Z/wf/w/6n/r3+4P7B/qX+3v7l/tf+3/77/hb/Nv9d/0f/Sv96/1H/6f6b/nL+t/7q/g3/M/+0//v/+f/4/0kAXwArANP/uv/B/+X/5P/t/xgAGAAhAEIAZQCMAHEAUABmAIAAlQDXAOwA4QDjANQAxAC6AN0AEAEOARIBKwFRAWQBYwFjAVMBXgE3AR4BHgEkAfgA4wDWAMEAyADHAKcApwCSAG4ATwBTAD4AOwBPAEkAHQAlAAAA3//N/8H/qv+//7f/nP95/4v/V/9G/0z/WP93/2v/U/9X/0z/Xf9v/1X/Zv+F/5b/kf+j/+b/0v+d/7z/wP/V/wwAMAA5AGAAXwBqAFgAagByAEcAJQAuABwAHABHAFcAUAB0AGEAdAB+AJAApQCUAIQApgCgAIwAkgB1AGIAcABMAEsAbQCJAI0AbgBxAJsAdgBOAEoAawBNABYA9/8FAPT/4//Q/6//vv/E/8T/lf+B/63/kv9d/3v/lf+A/2f/Uv8J/93+uf55/kf+af58/nr+ov4G/xD/E/8t/wn/7v4P/wv/FP8n/x//Dv9Y/3//mP/D/7L/zP/o/9//yv+3/7b/c/9I/1v/O/86/0r/OP9P/3//ov/I/87/GwAaANn/HgA/ADIAWAB2AIEAkQCVAJEAcABmAJEAlgBLAJwAqwCZAJUAmQCmAF8AigDGAJYAfQCjAH8ANQBcAFoANgBJAHQAbgBfACsANQAZANT/+v/h/wgAJgAvAFEAQAAnAEIACwALACYA/f8qAF0AMQBxAFwAWABvAEEAOQBFAP7/9/8SAO//EQA/ADcA/f/m//v/xP/Z/9n/m//P/+r/uv/L/8//mv+F/5n/wP8QAE4AegC0AKgA3AD3ALsA5gAAAcwA1QCTAHwAigDv/wgAWgD1/0sAfgBQAGMASQAJAPT/DAAJAPn/SgBoAEMATQBDAAIAEgBJADAANQB9AGMAKgAkAA4A8v+0/+z/AADc//z/4f+U/3z/Tf///jv/J//+/kj/9/7D/tL+nf6A/pv+rf6M/rn+6v7z/vz+8f5E/z//Qf+j/6b/m//w/8v/bv/Z/83/tP/f/+j/KwDq/6P/AgDK/23/2/+8/27/1f/D/5T/wv+w/+T/sP+y/w8AmP+O/9n/cv99/8n/j/+n//3/v//a//f/vf+F/03/f/92/z7/gv97/zT/Xv95/2T/bv+3/8n/6/8YAH4AXQBLAIYAWwAGAD8AZgBlAI0A0QDcAMkA4QAZAb4A8QAhAbgAAQF5ASIBKgF2AVUBFgFLAU8BHwFFAWABMwG9ANsA4wBrAC8AfgBMAAEAXQCOABEAPgBqAEoAyf8+AFkAv/8sAH0A7v8IAEAAyv++/+//n/+0/7z/yv/6/+f/BwAEAOP/JgC+/7H/IQCq/8T/3v9w/7b/0P9c/8v/uf+L//P/qv+Q/8j/c/9m/0X/P/9S/0j/Mv86/yD/Pv/q/un+Rf/p/hn/W/8a/x//ef88/3D/GwC3/zwAhwAiAJoAoQBOAHgAxgBwAF4AtQB0AG8AogBmAEwAsABzAHoA+gCAAMMAsgA5AJUAiABIAI8AWABJAJwAYAA4AJoAcwCCAJAAWgCeAHkAFwBeAAMADwAkANv/CADj/+L/BwCm/7T/8f/X/7H/9f/o/8f/7P+r//j/KADK/y8AqgBCAH4AogCoAKoAkADeAAkBoADvAEAB1QCAAOsAnAAKACgAbQDU/53/yP/L/1j/Ff9q/1z/Cv8E/1T/hf9G/3H/6v+h/3f/2P+7/1H/cf+p/37/Df+k/8T/dv+A/6v/ov+C/4T/vf+F/53/fP+R/4H/Wv8Q/1b/VP+g/lH/t//G/kL/sv8a/zT/Vv9Z/yL/Nv+i/1D/W//g/3P/4P/2/9D/VwBOAC0AgACNAHwAXwCVAOAAogBPAPUA7wCvAKYA/AARAaUAAAFBAc4AKwFzAeYAIAEuAQsBSQHJAJgALQHVAKIAuABGAQkBVAAwAUYBOgDzAC8BdQCeALIAnwCXAFwAxQCgAC8AiwBYAB8AAQDh/xQAl/9l/+j/m/9e/zr/PP+Y/0v/If8UAJr/av8nAMf/lP8hABAAEQD+/1AA2QCSAIMAHAHSAFoAgwCNADIAOABhAAwABAAoAOf/qf8IAKr/gf/E/3v/Vf9x/zH/If/g/kv/OP/2/r7/mv8h/83/q/97/4j/kP+B/4T/l/+u/2v/xf/q/0j/g//k/7n/6f8mAPz/GAA+AI//lv/B/yv/Ff/d/uz++v7y/uH+Cf/4/gb/Uf/J/vf+cf+7/tv+Av/K/gT/DP/F/mb/hP9w/8b/9P8mAEsAYwCwALEAsAAiAQUBtQBbAVYBywDRAPEAugCLAKMAwACuAKEA6gDjAMMA5gAgAbQAUwBNAEAAz/+m/87/3v+O/5z/8/8AAOv/WwAhAAsALQAsAPX/tv8sAAYA9/9NAAoAQACPAFsAPgB/AJkAUgBSAIsAZgAKAFEAigAHAO//bgD5/8b/8P+1/4b/k/8u/1n/Sf8R/1T/bP9f/37/jP+d/47/3//C/+n/BgDa//H/IwARABwAIgAeADAAdQC7AIoAmwDrAKgAawBMAJIA4gBvAJcABAGjALMA8gCJAH4AjAA6ABAAPAAXAEEADACw/xIA5/9Y/4r/wf+e/0P/if+A/wz/Ff9A//7+GP9h/6//cv/l/xcAqf/c/+L/n/+g/2z/sP9r/wb/e/89/5v+nf9r/3X+bf+u/8L+7P6G/xP/Z/78/kb/TP6a/kb/xf7z/l3/mf9+/4X/HwCk/9r/UgDY//T/MQAAAPz/NwDVAF8AygBWAcAA3QD2AMkAywBZAMwAygBtAOMAJAHwABQBIQEvARYBoQD7ACABaQDCADMByACEAKwAAAGEACYApQC0ADIAkQCmAEkACQD8/w0As/+n/9X/qf/I/5P/1f/x/5P/xv8yAIv/Tv+f/03/MP/q/l3/f//n/ob/uf83/6D/sP9t/3r/WP97/3T/Lf+L/3j/Pf9y/+j/kP8y/xcA4/8E/wsAQgBM/7n/LgDU/5H/EQCXAMP/AgC0AG8APQBPANAAUgBOAEUB1wBUADEBDQE8AJQAGwGnAGUABAEoAaEA6QD2AJQAxgCJACAASwDN/6H/NgAUAOb/SQD2/8r/zP+c/xf/Qv8p/6T+QP9J/6X+I/+I/zv//f5t/+T/Fv+o/pz/Wv8w/ib/pP/H/r7+j/9//5D+E//3/yj/3v6f/9z/wf5N//L/PP/v/l//3f8h//T+ewB2/xH/aAAtAK3/zv9DAEwAnP9yAMoA7/90AMQAcgCUAOcAvwCoAOcAQQHZALQAXAFhAfsAiwEDAlsBagFhAmUBBAHJAagB+AAXAWMBKAHQAP0AlwEoAacApAEpAakA7gA4AXQA9f/AAY8Anv9yAakA//9qAPsAWgCK//8AjAAr/5AArQBe/67/hAAbAGT/xf84AKr/Bv/g/3kA7f5c/90AUf+P/o4AKgAS/u3/2QC1/vL+kgBS/9v+JwAvAFX/w/9bABsAa/8oAKUAyf9r/4EA4f+//k8AbQAJ/xoAnQCd/wb/qQCwAOX+VP8eAUAAa/5wAAQBvf6S/3kBagD8/rAAjAFy/93/ewEwAB//OgEYAVb/mABiAZv/6P+7AAUAdP8mAF4At/+T/xgALwB5/4//WwBN/6L+BAD2/6n+oP/F/xP/EP9J/wAA1f6k/q8Avf5j/nwAxv49/sH/yf/N/vP+W/8K/wX/PP8I/+b+dv90/3P/kf/o/p//tP/3/vr/3v8A//P/zf87/6z/3P/f/3T/q//KADX/1v74AOz/8v4yAX8AG//dANr/LQD8AOf+GAEOARr/SgFnADEACwHk/yUBcwFv/xgBmwHJ/10BBwHwAG0BHwCrAjsBdf8PA+sBxv9kAh8CrgCmAZEBVQETAc0AHQL0AFoAzQKHAPgAFwOEABUBhAEfAZoBAABuAYMCb/9rAJMDI//9/gADHAAF/6QBCwFK/2QA8wCu//j/lQBLAMz/2QDF/yD/TwGW/7P+JgE8APT+7//H/+D/Ov/I/lkAAAAZ/sP/xAAs/ov+vQAN/9j9q//I/53+3v7z/v7/4P4F/gAAEv8D/iP/oP60/jr/Pv3S/2EAs/yI/3MAlv1G/r3/ev/K/d3+XwAR/yP+v//Z/7b+A/+G/2P/tP4u/2D/A/+P/yr/uv+Z/wv/4P/c/y3/BP///7D/Nf9j/47/3v/m/iAAZwBB/m8ADQCT/l4AHwAP/zwATQDN/0f/o/+VAKH+GP/PAVT/of42AY4Amf5VAGwBR//D/68A6/9q/zsAjgAYANAACgAUACMBA/8p/60BuACS/t4AYALM/uT+qwLY/0L+iwFsAMH+kgAbAPX/RAAHAJQAUQDc/yP/w//uAPL+T/88Abz/EP8aAG0Ai//M/g8A9ACc/rv+3ACZ/+/9dgBvAVb+b/9+ARb/n/4mAEoAYf9U/9v/ZgCJ/23+WwADAYz+tP/tAEj//P67/88An/+v/gEBLQDX/of/j//k/+3+Qv+tAMP/Cv/Z/2IA3f81/4b/1wCv/1j+1AAeAdv+FP+QAdcANv5yAL0BPP8c/xABgwFP/1f/wQEiAbv+GQABAsj/9P5FAbQAT/8uAP4AHwGy/wgALgKAAGH/MgHgAdH/3v/PAdcAEQDsAFkBxQAIABAB0QGx/zUATwJoAKf/NwG0APf/0v/EAC8B2P/5/+gAuABnAAYAvwCEAGf/AAABAa//Ff8GAaMANf9wAMEA1/+b/w0AJQArAOj/U/9NABEAEP8u/xMACgCT/goAUgE3/lH+zwBN/6L9+v+WAG7+Mf5ZAO//AP5v/4UAZP+X/uP+kP8S/u79j/8n/2T+ev4t/5/+hf1L/8r/Qv7J/nH/B/9e/pP+sf7X/rv+Jv9R/w7+hP5L/0T/C/8V/+z/WP+5/tv+5/5Z/6X/yP8+ABYAC/+0/0n/lf/FAHwAYgBsACYAJQAMAIsAPwCrAGwBwAANAAIAXQBbALUAaAF+ALsAyADY/78ASwFXAO0AMgIZALv/QAFqANz/zACnARwBGgAdAb4AOQCHAO4BggGbAPMA3wCuALUAxQD4AbcBqQBcAK8BLwGz/6MBrgKxAPUAFALWAGn/cwFDAgUA4wBRAu0AbwAuAfwAlQD6AJkB/wCXALoArwCIAJ0AdAEEAkoAYwAYAQQAc/+1ANkAmQDIAKEAAAB//wgAHAF6AGcA0ACJAPP/FACbAIoA3wA5AWUAjwAgAGT/XACRALgA0QBTALcAbgBCAEkAWAC5AAoAvwD5AIH/Zf9sAMT/Ov8/AJQAlP9s/4H/L/+2/xIA2v8aANn/X/+w/qP/NAAI/7v/YACu/nH+vf8K/x7+ff/vAOr/Tv44/2H/8v2w/q0AEwDX/hoA9f8y/qr+NABRAFv/tf/tADf/ZP5wAE0Asf/CAPEA+/97/27//P58/xcARgB5AOL/cv+0/zwAagBcAPYApQBAAN//zv+dAIkAWgCzAIkBrgCA/vH/1wDh/qv/bwE+ALr/eAHjAP3+ogAUAioAGAAnAakAif89/+EAfwHnANMBtwGUAIIArQA/AJsAawGvAecACQC//7j/+/9FAUoCTAHMAFMBB//g/VAAFQHX//QAVgLq/3z+SgFGAdb+RAGwAjP/4v45ARIAA/+lAGwBCgCA/xEAkQBA//X+mgHsAZL/XADOAAr/eP5u/xYAof+9/5sAZP/t/4AAZf/b//cAVgD6/+cBRAFJ/Vb+OgE6/4X+sgGkApf+Q/7uAZMAmf6TAMEBDgBj/vAArgCt/hkACwK7AdD/XQAGAej90v4MAVkAI/8kAIYA1/5W/+X/FP8nAFQAD/8J/ykADP/M/a7/FQFn/8v9qQCYALj9z/9+AYj+Qf6/AO7/OPy2/fUAdf/0/jMCNQFV/rj+ggDW/nn9rP+DAEr/8v7Y/bf9x/2V/eT9lf1GALsAj/2N/pr+ufxo/Hz9EP5F/Tj/WP8h/U/+EwCa/oH9qv41AC//wf3W/nn/+P0G/p7/Sv/8/FP/3AHY/6n/6wFBAar/CgBdAHv/lf9NAIoB0gG1AJoAFQGnAX4BJwENAs8Aiv7p/jIA+wBTABcB/AI3AjMBdwHbAGL/rP95AbcAGAAHAOj+//27/sz/3v/f/7wCrALD/23/O/+//S78JP61AJr/av9M/k39zP7+/pn+2P+cAUwBTQCY//D9kPzO/F79QP0H/an/wwEU/x/9Xv+s/9n/eQBl/wsAf/9+/WEA6AEJ/7/9LAFgAmYA4wFQA1cBVv/cALoBFf+h/uD//f/h/5EARAHVACYAHv9L/1z+Pv0q/m79rP2y/lP9Xv05/pL+S//n/mb9Cv3z/bf9Lv5O/4r9tfyY/Zf8rfu+/Pv8d/0h/hv++f96AD//4f0W/vn+6v3p/qD/Sv2n+iv8e/0W/EP/bQHU/w////6M/w7+evz8++v9Vf6M/EYAkAGJ/kL/af7t/XAAswFE/w7+5f/v/rr9Mv/AAikCS//uAqoEkgQ8BDICEgW3Aw0BKQOhBXgECwK7Aw0DlgUYB8MCSAOSAnQCOAIBAWwDBAPKAJ4ATf9o/wYAGP/h/T79Uf9OANn8d/xV/iD7M/iY+jj8ifrB+VP7xftk/J79tf7D/yf/r/4N/QP8XPx+/Dj9cvwx/poAGAASAO8BrQMDAk3/nACzArT/7f6RAA0AEAD1AMYBDwKgAsIDwwPJArYCgQJFAicD/AGnAHEAGv+t//sCqgGTAM4CDQSxA8YDjASFBckEmAKIA1ADRwFzAf0AwwAzAMIC1QPYASMDtQSOA93/pP89AdQACgEdAQwD+AKg/54A0AI5Ae7/SgDb/s/9x/4c/7L+U/5Z/nv/Jv/i/28ALf8I/rn94v1o/2z/X/5ZAJb/Ov6kAMkCHQPYAk4EiQJ6AJgA8wDgAOD+VwDaAFb/XgANA2YDawD3AKUCFgMRARYAtQH+/xz/xgCkA0sDhgK2BIQDyAHWAxAFJgGr/3cDWAIa/tD+3QEOAjMBJgKZAngCQQJ9AdEAZf+g/h//SP5//Cf9Z/8M/j77Yfy5ALAA5vy9/oEBxf9o/S/+wv/x/zkAuf+MAIUBVAEIAaoA1wAxAXEBBQABAPsCPQRNAoABAAMyA6sA3v/QAHj+3f0F//P+PgGHA8YC0QFQAkUDmgIEAOn/qQBX/sr8nPzq/pAA0v/yANYBeAF8AUYBkAHA/3D/cgBu/gr/EAADAFr/wf22/5UAhAFaAwEERAS5BPMF5QTtA3sDDgLzAIv/TP+VAWkCagJUAmkD4QTAA8MCgAMCBIgCAgEjAqQCPwOiA24DvwIPAysDrAHaAGoA5AA+AdIBxgOhAzgELwSZAvMBBgIvAkQAyf+5AAwAFP/G/uL/0f9C/8L/k/9//jH+mv/J/4/+g/7a/9D/t/6F/g/+4v3U/Uj8QPzS/rkA4P/o/vwBFwTBAksCGwPqA6QB7v9TAEUA7v+G/9b+wfy1/M79UP2B/d3+SwEQAb8ADQL0AjIClf91/XT9rf3//Kf83vwE/w0AyP9KAccCJARlAqgAVwC5/2sAef7G/En+VP4i/ez7cvwQ/5P/If7B/OH93/6t/Oz7x/yI/J77/foM+zr7rv1S/k37Wfos/ocAMP5//QL/mACWAIL/vQCaAl0DeQGD/zcBLAIsAPH+TgA7AWoA5v/uAEYCcgLAAY0Ap/+RAGwBZwCm/hj/8ACvAIIAFgIrA7UBEv/g/X3+of+//yL/ff/KAS4CJv+Z/tj/kP+F/Ij6qvvQ+8b77fuC+uz6YvxW/Dv7F/uN/OX85vpm+eD5rPok+7T6Rvvc+8b9kgAmAB8AZgLcA9UCGgGqA7IFaAQIA4ACaQNhA7cB+QF0As8DIgSaAocCGANwBIsEnwLXAZUCswLnAuMCWwJtAnYALf9q/37/Iv+n+yP7Df32/mT+xftt/bb+6/z5+8z6l/uk+4X4Z/dD+bz7c/wy/N79uv7H/c/8oPwo/fH7l/pB+gP7yPwH/j/+AP+4/4IBvgJMAtkCegMHA/UCHAOPBDoGpwf2BrkFRgb4Be4DTwJmAzYEjAGp/08BtQPNAtX/wv5Y/zr/p/yf+1386/uX+m358vfj92z67vxg+1D5hvoG/gf+GPy1/X3/Pv2V+nD5KPpa+378EvtJ+eX6z/3j/50BewN2BPgDEgQoA68AAgB3AEL/pfxa/T4Ctwb5BlMFcgUpBhAF3wNLAr8C2gK0/338h/2UAesDBQMlAwIDAwK0AS8BKP0V+kT6APrH+Pn5lfy9/GT7TPsc+tL5a/tq+zT6vfiD+ZP5o/Zj9a/1+/ap+Nj5KPzb/KX/LgNdAjMAigDYAdACKQSfBkkGlAW1BN0CHwSaB4gHfgWoBzUKSAazAwcGkAYVAzQD/AiWC/MKygrVCf4HTwUnA2IBlQD7Ab8ATf6V/FD8Jf1U/OL7D/zE+z38K/sB+UP2gvVR9Q307/Wg+v/7gvla9+L1evTx9UL3efcH/MQBfQGQ/RD9tv0q+bv1S/il+wj//gMuB2wEUACsAZMDBAEjA34Lxw/RC+8I5wvGC3UGGQQxBx8Megu+B3sIJgp7B/MCKQMSCN4I7weeCZMIiQWSBgUJxQYvA0IDuQSKA0kBDQHQAG//FABoACj+RPud+Q73hfPv9Pv2n/Sb8+P1R/nw+K/40/m59cfwfu8c8TDyv+2q7IPz+/rH/Xb9FACsAkgCoQQKCgYNdgifAqEELwdHBS0HmA6TFMIU7xN0FaIWWhWHEEoOZRAfElkQUgriB8wHmQMnAfsE9gznEhgVnROIC+YBT/vH9zv3jvch+i36FfeB9WP0J/Pp71br4eyq8iT2WvjP+VT0teli4enje+z37SbrBO4V9hv70v2FAS8Axvgc8VTu3e1E7qfxuPTq92L83QEBCJsOFBSJFvgYFxx7HNEduhwyFzMT7hT0GwAirSdMMWc1/S62I9QediBDHhQZDBUOD4UGlP6+/cMBDQBl+dz2YPwHALz3VOsF4/Pba9SF04zalt5c2tXPYcl3y4jSYd3447fj9eI/4xPjYuO/6GbseepZ6C/uRADfD8wU+hVCGLEZHhYZFsQanRbPB+j7SgDsDoAXihlqHLwezRm7FxckiC//KwIixB1GITclniZqKrMvdTEkMlg2Sz3YOnMsPB5nFfQQxQyxCLkD8/d66Erb3NaY2bTWEtEXzPnCebrdt4S5z7j+sy20U7abtT28m8byyofLos8f3HTo0/I3+mv9nwH0AR8Ecw8xGjIeDB2wIZcriCwgKTsodiXrH3MZbhl2HgIeBRkIFGYUiRgnGXkXHRSiD0wJZwWsDWcVVRWYE1YRURRyFrsadiU2KPMjWCMkLIE0aTWVNvUzeSoHI7Ml1SrYJgEb1Als+ZnsueSU4XnYzcj9tpaoIKCEmh+Zt5Qaj+mMr41Xk+CacKQ4qkKs07KxwejUp+Ye+ScHmgxuEQUeby0jODQ+/DyHM14pNyb/KXUu0i6DLN8ozycQKrEtZzABKrAeLhSnC5MILgiqB6ACxvuA+lr/CghNFT8g5h8PGoEZNB/SJbUuMzZyNUQu+SnfLyg3IzhmMzMpchoLDU0EPAAs91rl1tQ9xRq7DLZ7sDSpGp0gkRKLHJC8nPul+attrumq4qfLrRu548GtxODFMMqg0svhxfVWBtMQURi+IGYuXT7CSlpPz0y4SnBJoUqeTdFPf0zYQ8A8pDjrNyQ2OzMvLFQfexJhCEkB8fWe6/ziktlW1iPY4+Dm6qHxDPcs++0CUw0dGBgiICjuKmwuUjRcOhA/oT/6OiExYyUlGjMOzQIb9hvnaNta0OzForueryulo5cpiWiBAYAxgTGBVoPHis2UoaJQt8rMl9/g7dv7yw2THj4vCz6PSGpPWFI1Vl5aF1qwVztTIkrMQeU7EDcWMPAiThXhB/v7qPRP7QvnOuAN2OHRiM5c0VfVQte12QPdQeTA8aEBBRFPIJEswzfFQiVOH1hYWDxUYUuYQFI67zTHL9Yl9BlXD/UBXvYE7b3jhdeHxJOzuqfAnQKYFpN5j16OUI9Nl/Wjb7PVw4LPTtne5FXy8P5eCPARxhigHFghhCdcLj00/Tf7N900ITLzL4UsASbbHt8XpxFCDGUFHQH4/Yn2Ke1O6KzoD+e5477joOVa6DTuDvkzA6gMrhcYIAwlKSq+Mqk41jhGOZs5BjldNSExJi1TJhYgwBl6EuUN6wkzA+/3bOyY5endpdMEzJzGrMHvveG+Q8Ryyb7OldN41gbcreSy6w7w0vG99F335PrAAfcGlgq2C2AKVAnJCyYTURdLFwAXEhWpEIEMMQvcCMMCefrC8qzvf/Iy+Wr9n/5bAbwEcwebC3UR7hO3EHwMuQuNDZgQ+hXHGCEW2hN1FLMU8RJXE/ATeg1kBFUCoAUaB9oFDgSvAGf6Xffd+Pb5hvqf+Nfz4e9h8ib6D/4P/7b+NvvO97H17PZa+Dz3nvQU7q3oxOjq6yPvXu9p71/wMvEN87T3AP7vAOD/gv37/LT/0ANtBKcCUAKxAqQECweGCn8P2A+ODoYOGhCtEyAV5hTJEoIP2Q2TCwsJTAbAAtL9YvcY9CD1BPiY+8L9Qv4u/7L/XAHEAyUFIAQ/AIn99/2f/3sBJwPHBfsHeAmPCiUMAg6lDl0NcAqJBgMD+/+C/Z36oPja9tXyKvBs7mLtNu0x7PTrK+sK7DLvNPCF8Uv0hPg0+0P9uQF0BYcHjgkhCywNUQ0zDfAMAQu8CWsJ+QcqBrAFwgeACZEKDQwwDPkLcAxJCz4HHwIZAJ7+c/xA/QD/dQB7/2n98vx4+/n4Pfd39lv2QPUt9ZP3yvqo/ND+AAKfA3sCdAKDBEkEAgI7AhoDKwPGA9IGtQlCCrkLIg3RDDMMnwo8B4wC+P1I+vz34fdj97bzzfAE82724vfA+Pv7Rv6d+5n6m/0EAN0AQQEgA5oBEP6f//YDpAjzCioLkAxXDuAQ4xKMFW0XERPPDDcJAQjgBacC2QD4/BX3e/OV8UXv6utr6tvoaOZR5yvrEe4W7c7qb+rf6T/qfewG8JD0VfeA+Wn9bgOoCqIQaRWZGOsZTx3qIvQnoym2JaccUhMMDV4IIQP2/7P+b/mv8R7uEu5g7GnodOgS65HqEunt68fyAvgc+l79TAJIBq4JNg5CFK4Y8RlvGVMaNB4EIFwd+hjqFWMSmAzKCbkHnwJ+/Y77ffuF9kbv5euP6JrkHeHu4Izjp+FH34DhoeOK4GfYt9TQ1qXZKN8c6QjzyfiE/oIJoxQrGkweeCMfJf0hOR4WH30faho6FlIUIBKEDFQHMwt8D1AKEACk9X7tX+hQ6t/wD/D56c3qafLi9133PvgB+bXyYO8l95kEuQ7WExMaeh4FHoMeQSDoIQ0iOCBXHnkchBsZGnEXDhX4D+oDxfJZ6mnsz+uO5DvdP9mr1WPWCeCQ5hDd5cuSxGnGPskIzy7afuKm4+XqhPtHCDIMuQ4JEhgPdAwWFXkfiiIEId4j7Sa7H+8WkxjTIakl2hn/CAECLATVBTYDGAFc/gr1O++h+XUJjwcx8szjZOdk6wjoQuyD/NwBdvXu9d4OqyDHFe4HNhKaIt8hnSGNNFhESzgcI8wdihxODG/8lPwW/Jvsjd294Sbt8+pz3hbT2MlMwu/CCMlYyM7BQ8LIyBfLQNHP5Bv02Om02cbpXw4WHGgQkxKmKAYtnx7YI1Y7vTTlDWYBKxsNJWkMNQB+FH8eUAvYAD8StBxbCvn8nwv0F4YIbvGD7jzzVOlG3PfdvuaR59fktew5+jIBjAODCRATgx4DK0c2IzwqPx1FcENqMj8hKx5SIIIUUwPFAVMFEfnQ4xjfJ+c33EfAE7e4yWLXXc1KxWzMaMq0s4Wm97h1z2HMkMIo0nf2/xKPHqsk4ySKF8YKCRFDI/UoHBsgC+AJyxNZHEoaqw50AzABGAv3GJ8hKiKBFx0J4gSGDk0Y7RGI/1Hx8etp6l3vJfwCBcH8W+3/774DthCaCpz/XwBiBOwG+RDTIxIunSKFEwQVMiGIKD4iChgJEp8NtQxcES0ZqRtiEb//uvIj7zbssd3OxWSyBaXol1iOHZEhngGnzK0Ev9PbF/gFCocWKiK2J38n7Cq3NYM+qTykNHQvYSrHITIWSwcB+JDrOOXu587uaPfm/r0DsQjIC5AOiQ+EDbENxg+MEYYQFg6UD8ERcQ22Bfz/I/3D+gn4APpH/cb7jfiJ+A/+zQK+A1UINA+YFr8f8yuyOfc/MT9sO0o0MCsaIE0VTQl/+bTqot9a1JjH8LisqbCbvJDkjqKVuKFosU/CYtcw78MF/BdxI3wqvS3jLTAwbTV4OLI0DCqdHrES4gOP85bi8tYz01DW3d8L7af8KgpmEQwUUhZhGiwc+hjAFZAXIR3sIDAhFR9JG8cRogLd9a7uN+yM58bgd9954tHnGevT7qD28P1wBDYM1RpgLtY9nUaMShhNt0sGRD44Gyt0HZUNP/xv7JzfTdJuw920cqliouOfBaOuq3q4jcf11TzkcPP+AVUNrRMeGHwe0iXQLHsznDjcOCgwQiG6EBL/OO3x3EnSQc+E0crZoOcI+OEEYwvXDn0RwhIAEmsRAxMiFoIZMh0DIl8kIyJOGeELKv8v9bbtSedG4wziz+Ek4sbkp+sK9Kv6EQCcB+gUDiU+Ms45yz5hQsQ/IDcDLzgqNCObFTsH4/x99e7rNd5jz/LDML2/twm1rbrGyDTXb+Bj6jj5VgYuC0AJqgalBvUGFQYAB54MoRM9FHUObgqhCooIi/8f9O7uHu/C7tzr0uuL8tb3YPU28jv3zQH3BoUFNQhpEqUayBsXGkcbQBsvEqgEC/xy+3/7yPVz7lLrWexA607mseR26TfwpfPU9jsCVhYzJ6YsXS75NQY+EjpKLsQo/iaoHRsMgv+Q/MH4He2r33/ZF9lP1iTR4s8m1bbcwd8E4Y3mGPEw+2P95fvnAIEL8hGKD2YNGBPZF7ARuQjmCQYRAA4GAan6Ff7p/Y/zhOjJ5bXlb+BA2hjcR+f186D7fwJ8DTgbtSQPJM4fxx6RHvwXNwqrAWIC2wBg9lHqyOiL7aHqA+LP4IfqzPKI8qf1TgQ8FNoZTxqXIKsq2y2nKJ0jdiKBIXMboBEvCaYD7v4z90PtUucy5yrnO+IO3TDgCOhn6Yrm0OkQ9XX8lfmM+XgCJgpeCC0DmAYXDqAO/gp+C7UQ7hJrDtMIBwZ6AfX40+wJ4UbajNaI1VvVcdc34vzwfv0ABtcPeB4tJu4jviFNJJMlYBxTED8Mlgo/AmL1W+6K7mzrH+Mn34ziFOhR65vvtviVAoELuhObGRUeGCF2IhUgfRpiF7wWHROZCr8DMwStBQIB4fpJ+mL7+/UF7ffqEe8s76rpsueL7VPzBvNg9L/7jALmA/kDmgdJC9EMUQ4UEIsOqwq7CSMJ9AMl/CT3TPTu7A7kZuKq5cnkzeCG4xvu2fWb+Gj/jgu/E9wU0hYhHfwfkxuLFTkS3Q1sBOf7t/dY8uvqEuZR5ibm0eRq6fPxlffz+U4AxQpzEDoR/BN6GRMaURSWEucVYxWADt0JYQtPCsECGf3t/KX7k/WB8avzRvYm9TX1pPik+6P7B/xe/lz/Yf52/4gCMAQcBKkHww7GEYMP+A2UD9UNngVd/mb8M/mX8O/oM+hO6dfmduTY53rsv+4S8aL2Kf4fBEQJ0g7sEvAU3hXkFuMVABEyC/YGzwAU+ArxEu/A7XXo1eR76BXvDfPZ9S79sAZvCgsKUAzzEE8ROAz4CJQJ4AimBYgEagepCLwGewV1BSAERwEbAED/nPs4+Nf5rP1J/Vb6U/u//9f/Xftv/PoDzgewBAQEqgtCETIOfAt2DugPmQn+AnsCDQHE+qD06/ER7lboq+fC6rPp3eah6in0ffg8+XwBvw0MEjkPvRBUGFIZ3RGbDN8LQwiY/rn2bfVh86/tOep47LvvGvE79iv+rAGcAewENAsGDHwI4wnVDbUKvAJAAbwGPgdp/4r7Q/+6/2H6ePjT/kMEXAKdAf4FCgkjB78EpwQhAhn8IPlw+sv54fZx+KP/4gN7A6wHXhABFL0PjA3rEY4RkQm/AzED8wDe973vJO507STpgeQ/5Hnm0Oic7bj0EPu6/hQE+QvNENoQUREpFVwVkw2CBDEBMP/d9tLtB+2U757t6+rw8Dn83QBqAHsFuw2ND70LMQvYDYcMkwb2A7UEOgIT/j7+o//D+2/3nvtpAsgAZfypAmANpQy3BJAFdA5CDpUBzPrJ/4kALPnI9T/7v/9c/XL+8ASXBjMFfggpD7gOCglMCnoO9AnY/1f8yP0x97vrgOkU7lnsVuaH6Knx0PNe8ZP3VwKLBSMEQAlEEuYRVgt4C74OKgkL/m/7Gf2a9F/pwulZ8P/uM+rP8D/8Of7u/eIGLBMNFd0OVhD+FnwV7Az2BUQCjPyb9czzJfQ485z0OfmH/fwA7AbkDeUOxgsvC+kLoAmfBWEEYASP/1j6FfxeARsCO/6W/pUDvwNLAJ4BowZ+BkoBNAFtBoEIGgbsBCYFZQER+nH1HfQM8jzuYuuf6nzrpu4y9kv+tAIpBXIIfAt+DDwO4hEMEDYHXv8Q/fj63vQt8CjwAe4u6E3oYfMa//r/Ef4hBOIMZg8HD8kTjxfRD4kEpQI7BzQE5vmd9K326/dM9k74u/2k/kT7BvyWAr0GmwdVCTALzgi/BTwJVA32CIYBWAB4AsX+r/mi++z++PoX9iD7DwRXBkwEOQarCXQHEgPwA3wF7v9294/1jfY080/uU/Bo9eb02fOW+XkA+ACT/9wFew4rD9IKIApDC70Gsv53+8f6QfXI7S/sgu8j8SryXfcH/ywE9AdWDTwSsxKNEZIRKA/4B58BDQCn/yv7z/cd+er6O/qZ+Vb9cAFTAKT+4gAPBQQFHgGR/wcA+P/a/1EBYwMuAwwCIQKCAnsCaACn/Ez5GPjg+Lj7aP4XALAB3ALzA2gDOwED/zT8pPqn+v76w/rj+R36rPvj/DP96ftX+pj7lf/0A14GhwbEBp4G8wR7Afb7YfXM7sPqWeqi6+HtK/Ji98X9+gQACwkPyRBZEYYRABEED9gKZAYGBOUBA/6m+V72XfSN81X0VfZc+c38XwHPBsoK1AxFDKsKGAqpCVMJ0AjsBbIBHv9s/+j/Xf1h+rj3O/S48J/uHfBH9JX4t/zOAGwFuwisCHwIlwl7CQAHjwPgAlUDUQHT/X77Kfrc+Eb4w/nO+838qP/VAycGpgeUCSQK2wVI//z6cffD83bxLfLh9Hz3VvlA/CMBjwV2B4UIHAuWDXMN1Aw6DJMKdweiA9P/kftN93XzA/AW75XwsPRz+q//6wSeCWsNjg9AEAERWBEFDzwK2AX1AqMAWP7v/N/8bPy5+qf4r/cr9tPzlfL98aPxvfJQ9f/4ZfwoAIUE6AdSCgsLvgncB/YEMQBl+5T4yPe199/3hvqa/rcBgQTVBqII3we7A5L+cPpV99vzO/FI8nX1ovcF+sP91gF4BUoIUQxiDxsQHRCpD88OZAwmCQAHcgOt/Rn4VPRz8bHuh+1G8Df0EfbY+GT+cQTJB1kK2w9kFCUUYhGqDwAORAlBBNgBwwAf/1z+LgBQAv0B+gDzAIj/x/pm9Vzy1/AM733wcfY2+yv92wDfBngJewbOAwkEugJh/pj7T/2O/wf/qP/IA6YHqQfSBbUFJASk/UD3EfRf8f7tTuwK7tbvbfE1993/xgY7DHYS6Rh/GxQadBlVGa0VHQ42B3sDpf6Z98vy2/Er8UHu1ezs7z3zjvS99qr7TQGEBboIDAwIDt8NaQzrCZoGrAN2ATT/tvyJ+5n9wgCsAvQD5gUYB3kF8AFl/5X+S/3x+fv37/h3+uv5i/hX+dT6iPpU+eP5aPxv/jv/2f+sAcoERwccCGsIEQlcCHQFvQFP/pb6SfbE8WPtXuow6s3rW+0T8OT1OP1DAy0Iog7+FacZtBjnF8kYDxhoE74NIAoFBhn/KPjE9GnzrfFI8LXxZPVZ+CX7/P5xArgEYAbVB+gG4QMuApkBVP5/+Xn4YPuV/FT7kPzEAKwDkQNtBPUHbQljBmwDWgN0AzQBNv/8/6oAtf54/Or7+PpA+J72Cvev9tn1Fvh7/Iv+df9KA2II8gn0CDUKLwy0CZYDH/95/Vj5APKI7TztI+1B6yfrVe/R8wH3fvtjAbMGZgopDtURpxIZEoQSghLVD1MLLAjhBQMBpfvy+Wj6oPnj97j5jv7MAPAATgIBBUcFtwLNAKYAiv+Q/PT5Pfne+Bz4Qvg5+c76Uf0qAK8CNARWBQYHFwgXCG0HSQcbCD4HrARjAzsDrwEZ/ov7Svo4+NP06PI49CP3gvlz+yn+pAE+BA8GLgjQClEL3gnRBx4GbQO4/wH9qfqJ92v0hPIN8knxk/EX9Fz2m/fB+J38lgHFA7sEOwd2ChsLQAkqCX4KBApVBx0FFwR1AhEAZv+cAKcB0AHTAmoEFASyAZ4AZwCl/kn8vvv8++z59vaN93T6Jfss+mn78/5cAXMB/wKmBuAIpAjYCIEKsgrtCJ0IlQkVCBwEEgHt/sP7Pfi69kb2z/Q/81T0Hfda+JH4Tvt5AGID2gO4BZoJjguOCoEKJgvzCOsDUwB9//v8OfhR9cT0a/MX8dDwK/MQ9XX2m/mn/Br+8P8TA5UGXgiXCCcJcQnvB2wFVwTJBUAGNwTvAgEEGgTpAacAgwGWAY7/TP3R/Nj8svsz+pP5QfmW+CD3n/af9z/4pPkO/RIBPwTUBlQKOQ3eDQsOrQ4mDm0LXwimBrME7gDZ/DD6I/jG9D/xnvBh8sLzwvRO97v6mvxf/UkA2gTMB+0I3gnhCq8KEwmLBwAGbANgAO39HfxX+f/27PZh+L34DPgF+YP78Psr+9D7D/7g/8j/egBcAoUCHQK6A/cGdgjuB3IIrwljCQ0IYwe7BwUHTQW2A/cB4/8J/jT9XPzt+bP2dfWp9fT0NPP78n/1q/j2+oH/+ASOCI4K3Au7DGIMRAsCC3gK9QiyBlYEvgFZ/kT7Y/nz97D1TfMP81r0QfVC9YX1O/cO+rz8iP/iArQF5QcNCWcJbAhVBo0E+wLR/977mPmr+eP5uPlc+pP7V/yz/bb/k//O/H76SfqC+or6Q/u1/JL+3P9BAdIDgAeYCmgMSg5KDzYO3QztDAYNOwsbCckHIgb0A5sCagIEATf9Avl99hT1WPPV8Z/xePKu8/X1tfnL/NT+9AFIB/sKsgpjCSQKJAyuDPMKtQg3BmED8QC1/ij7WvfL9dL2z/aR9CTzv/Sx9wT6avxvAJQEGQcWCeQKRwr/BlwE2QOQAtz+k/za/H79EP2H/O38BP6Y/v/+V/6l/K/65fnh+bT49fVZ9Y/3APkS+TX6vfw+/yIC6QbJCxAOaQ7SDpEPVRCkEP8PAw9hDUALeAmmB68E7gC8/Tf74feY9Uj1c/T58eXw9PJS9WD16/Vm+Vb+IwGxAjkF3QiuC08Nbg42DqsMDgv3CJsFqADy+wH43vMS8SnwovDB8RD0f/i9/ZYBQAS8Bn4J/gqcCiAJswfEBfMD8wL9AVUAc/62/Wz+6P6g/rn9rf0m/jr+Xf52/qj8hfnP95L3JPb88tnwPPHb8uLzFfUm92T6sP2zAIUEyQgNDKUNow7mD3cQLRAXD6wNnwssCVAGkQMTAPb70/jE9lD1SvTf80nzn/Go8JTyo/X395j6t/6zA/QHQAsGDkEQoRFmETkPdwqCAzz8AffL82Dxhe9R743wGfKD9Nj39Prz/V4BtAV4CVULrAsQC1MKDgpiCYMHggXgA10CkgAT/yD/1v9CAFoBBQO/BPQEKgN9ASoBwAB1/lr6ovau87/wJu+m78LwQ/Lx86/1qPe0+RL8Wf49AZQFWwoEDYMNhw0MDoYO1g3/DOkM9gulCNYDlAD1/gz90vm49sn0HfMv8WbwOPJu9nb7lQChBSYKWA1dDtYNugyAC1cJFAYdAgD+3fln9vjzofKH8rjyc/Ie80v0BPZX+GH7kv/2Ay0HiQgDCEgGiwR/A7UCEAJOAVQApP8zAAECcgNPBdgHZArCC/oKlgjTBWQDRQEn//f81/lT9nHzCPKU8aPwSu/+7k7wNvKL83b0EfaO+ST+TwKUBKMFBQeCCOUJLgtNDE4M4ApFCV8I+QZjA1n+X/qs+P33bva79Cn1Nvja+67/1gNhB68Jewv0DM8Nvw3LDOkKkAh6BhAECABK+6P3Dvb49WX1ffSS9FL2Nvkg/G7/UANRBhkHjgZ1BfoCdP95/Qf91fzy/Bn9qP27/noAiAIoBSoI5wqtDKINFw7UDcwMdwtXCQIG0AEN/hT7Fvha9XzzGvIs8VvxS/Kd8pPyCPQs91f6DvzV/GD++AB9AzcF7gVqBi4H1gc4CM8HpgXxATv+8/t4+r74Uvcq9xn4BfrL/I//CwIjBfEI9Qv5DKEMPQz5C84KYgh2BbMC1/8D/dD6r/mM+fP5t/rR+3L9tv/WASgDrgOIAzMDSALJAK/+WvzB+hv6EfpA+o36nfqj+hD8JP85AqsEAwesCSMMLg2NDA0LtwnKCKEHGgZPBPAB2P+V/jr94vqz+MD3Z/cr94P3Pfge+B740vlj/KL9uP31/aj+gv+CAN8BVQMABToGyQX1A80Bv//c/eP8zfzm/Br91P2b/v7+4v82AYgCMQRcBmwILQmjCMEHFAeFBvsFYgUBBNYB1P9u/gX+sv65/44APgEiAt0CsgIHAs0B0gFWASQA1/6o/W78Bfve+U75RvmC+ev5CPvv/Gv+K/+T/xAAQgEGA2oE7AQSBbIFiAZSBqAFAAX1A/0BIgAL/zH+Tfya+iX6efpV+mb5MviQ96n3G/hw+Cj57Pp4/XT/oQCdAYACDAPJAm4CQQI9AoUBXwBJ/5P+vP1w/DH7Q/uD/CX+lP9AARwDKgTjA2ADWAOkAwIDagEJAGr/MP84/2X/vv+tAB0CfQM+BPAEnwXMBeMFVQYzBs0EswIgASYA3P74/CP7R/rH+lD7gfuY+xn8zvwZ/Vv9Bv7c/lwACAJdAz4E0ATFBCoEAQSSBHME6QJPAcsAVwBF/z7+pf0K/fj77/pX+mH6PvtA/Cv9HP4c//H/agAYAcgCxQSFBdoEvgMgA3MCwgCm/gn+tP4n/2/+uv3R/XX+sv4A/yH/QP8e/8n+Uv4G/jn9yPuD+oL6EPuC+4j7BPwz/Rj/ygCgAcQBYgIQAx8DlgJHAkQCxAELAagAkwAUAEv/9/5K/2v/wv7f/fX9Sv4C/r38aPx2/er+Jv+1/pz+tv+yAKgASQAmAb4CkAMxA6cCKgKMARgBoAGeAgsDCgJUAN3+cP6J/mT+O/4l/xoBcwKLAg4DyQRCBgAGBQXdBAUFZgQgAyYCqAEbAcv/sf7T/uP/oAC0AMIA9ACdAPf/Dv+N/oX+C/5h/F36D/p++w38Mvuo+mP7Kvwt/Ej8K/0Y/uf+FgAYAgoEswTUA/UC1QLwAmcCAQGF/1r+zf3R/cj9I/0O/D/79fox+x78X/1f/gv/5v8QAYsBzwBxAK0B2QP+BG8EggMgA/8C8QInA1kDeAKsAPv++P24/QX+o/7K/3EBRwMBBGYDjwJDAmQCFAKKAUABPAH8AIUAFQD8/woAPABYAGEAXgAYANP/4f+h/6v+ov2U/PX7Kvyh/DL8bvoc+TD5w/nb+ej5Xvo5+1X8eP0X/jz+lf6T/2MAwQDSAIEAQQAuAO//y/6D/fj83Pxf/Gn8mv0I/0//Gf9C/4z/gP94/5v/6f84ALsA5wBmABgAgwCCAfcCNgQ8BGgCtf+q/e789Py8/Iv8wPxl/bz9gP1s/V/+d/9PAPMAeAHQAPT+jv0G/of/owBCAfoB7gJhA/UCWwIBAvwBgwJuA/gDjwOKApEBtAAwAIMA4wBsAKj/3v/pACMBBgB7/9f/6/+H/2n/uP9q/zz+BP59//4AUwE7Ae0B4gJVAlUA6v5M/+8AYQLsAhkDogM2BDYEzANgA14DZQN+AtEAov9N/67+l/3y/dj/pQBA//D99/4bAXwBq//v/U395vwz/I37u/sy/BX82Psr/J38t/xJ/aX+9P+eAKMA4P/M/mb+//40/xv/BAD1AdoCcgGk/5T/CwGqAcEAMwD0ALoB5QCa/4z/cwAUATgBaQEeAQYAmv5z/dz82PxY/ab9Sv0g/U/9Vf0R/cD91f/KAQMC+QCIALAAy/8z/uH9p/9xAcQBigFsAfEA0v/v/t/+Iv9L/+f+E/6y/QT+nf7i/nH/nADoAWgCxAHqAM8AOwFRAVABMgIBA14CygBBAOYATgEGARgBWAJHBGMFLAVmBOQDnAPwAl8CWQJbAiUCVQIQAwEEqwSeBNkDIwOkAloCywGmAT0CtwLVAmYDBgRtAxYCeAHlAX4CRQIBAXX/v/7C/tr+vP65/hn/PP8I/+v+Pv93/7n/8f/v/wD/Kv0v/Pj8w/4//0f+1P3Q/Z/95vzR/Mr9TP+1//L+5v1y/fL9of4l/+n/XAGXAsACLQKmASEBMQAs/zL/dABYAf8AvQA3AWQBVwCe/z8AIgHyAFMAef/6/i7/MwAVAZkABP+M/TX9L/6u/5QALwHQAQQChwE0AO3+d/4P/yYAAgFbAREBYwDd/7wARwKlAkgB6P8wABABwwDJ/0f/FAC2AD4AGf8M/77/hP+Y/m7+3v5W/kX9Yf21/tn/MQDUAKgBKwFl/zL+n/6Q/xsA//9wAHcBpAGcAJL/RP+3/6AADwL1AlYDmgN8A2wCMQJkA5cDaQHt/tf+zf8x/97+fQB8AhoDyAIKAtYAbv9W/vj+kQDjAE3/gP0M/Qr+F/++/5T/uf9qANIAEAAB/57+FP/W/zwAcQBSAJT/2f7r/u//pgB5AMf/Uv/y/8EApQCL//3+g/+z/1j/bv+z/2D/1f4Q/4n/bv8l/t78IP2T/lH/7/6U/hT/cv+8/qn9hP1s/hv/PP7s/C79N/6o/f37Hfxb/qEAPAF3AG8AhQEXAuEBPwEFAeEAUwDB/5L/bP+u/gX+4P4HARwC/AAXAJQAAwE3AIr/MADdAOL/Tf7C/XD+Pf8S/5j+Qf/DAMkARv+Q/g7/SP8c/3L/XwAdAd0Aff8I/wEAtADz/0f/VwDsAZUB1f80/24AWwHqAEoAmQA5AfIAy/9H/0EAJAHj/9X9iP1G/kr+QP2P/Bn9Zv42/tL8m/z9/Sn/Gv9C/pz9Y/3R/EP82vwy/oj+R/7S/pAAxQFxAaYAJwCYAIABKgJ+AfH/K/9//6j/5P7B/ZL9zf6hALoBAQFh/4z+Wv/sAJ4BnQAk/2v+wf4c/wP/+/5n/x8AHAGzAZ4A3P5n/rD/WQGiAfcAtAD+AC4BAwHoACsBbgGuASkCjAJEAlEBAgHIAbICVwILAQcAtv/f/+f/q/+A/4r/AAAAAH//r/7W/X79vP15/iP/LP///mr/dwD9AGQAc/9v/2UA/wBkAJD/ev+5/+r/MQC/ABIB8gC6ADIB4wHfAR0BQADW//j/x//a/lr+Qf+/AEcB1ADXAGYBSwE6AFT/jf+vAFQBkgBl/wr/w/+JAIIATQCKALMAbgAoADwAawCAAIwAhAC8AMEA7v/N/r3+dP/r/9L/7f++AIMB7gCL/8j+uP7f/sL+p/7k/kT/Qf/c/iv+7P1o/sz+e/46/iH+zP1u/RD+g/8qAEz/eP4G/1cAuABAAPv/KQA+APX/sP+M/7f/6v8EAHcAHQE9AcsAWwB/ANcA9QCeAH8ArgC4ACoA4/97ANAB9wHQAA0AqwCoAbcBTwG/AW0C7gGrAEgA5wA2AdwAAAHrAUgCuAH1AF4BSgIvAsoAKQDmABQC9AHkAHUAMAGzATcBaACrAH0BXwEwAKL/YgB9AWQBwAC9AB4BkACP/1z/EwBpAHz/1v7L/+UAVACV/if+tP8FAb8AsP93/ygAmgCFAKAANQGrAR0BWwBTAN8A0wAcAAgAVAGVAiEClABMAIwBTwJHARsAcgCbASYBZf+c/q3/sACDAAIAxQCxATkBt/8z/67/CwCY/3D/MwAFAVoA/f5v/mz/egAdAAn/Zv8MAaQBcQBv/yAAVQEXAcP/rf8EAf0BiQECAWkBTwJDArYBogEzAh4CVAHjANIBzQI9AkEArf8/AQYDbQKMAPn/+AD8AHn/vP4pALsBWQHd/57/ggDLAP7/u//zAC8CGAIrAdAAIgE2AaEAeQBlAYwCWwJfAUUBNAJcAjgBcQCIAdECPQK3AMwAJQJvAtAA5f8UAdcC6QKVAREBAgLgAmMC0wD2/1sA4gCaAE8A6wC1AUYBZwABAfICkAMGAr8AwwGKA1cDDAIQAmUDDASJA1gD6wMTBEcDewJSAkMC2wETAZkAowDnAHsAMv/n/Qj+9P5v/zv/Xv/p/1X/jP2W/Jj9Kf+C/0v/5//GADAA/P7S/iUAtwFJAiQCwAEZAW4APABDAGUA4wBdATIBEQDg/or+nP5W/ir+e/5z/jD9aPvx+rj7lvxv/Br8YPwA/Wz9Hv1q/PL7Dfx5/Kb8rvwr/RD+X/7p/cX9gf5e/6v/gf/6/xgBtwGPAfkAowBsAEQAiwAdAQwBTABy/4b/RgB4APb/C/8a/tX9Lv6f/rz+q/4F/0n/9f4P/zwAoQHKAQIB7wC4ATQCpQFXAVsCmwO2AxoDJwOVA2oCLQBM/9wAmgIoAtX/4f1D/Z/94P16/fX8tPxI/LP7GfsP+wv7LfqA+SP6vftC/Gj6Zfir+MH6Wfwj/KP7T/xX/WD9q/yD/Fz99f2U/Rz97f1Q/zT/kv3V/KX9kv4F/kL9CP4Z/xv/af6A/n7/cf8g/nD9aP6n/5v/If/l/3wBIwKZAVgB/AHDAggDlgJKAvYCqAN+A/MCWQOUBFEEAQIlACAAEQBv/hf9Cv5o/0T+TvsA+jP77fuL+nv4nPes99v3Kvhp+Nf3pfZI9hH3KPim+JT4H/iR95T3DPg++Lz37ffA+WD7wfoT+b34K/me+LH3sPie+rT6Dflp+Kb5HPrf+F74vvnf+nH6hvkI+gT7zPoH+tT5cPpa+/77Z/yP/Gn9Av8XAOn/Tf/T/8AA+f8F/2D/eQBlAMX+CP9kAXECtgB4/hn+2P59/l39Lf15/TP9w/xa/D78zPuW+7/7Kvzf/BD+yP5C/pL9pP5wAEUBTAG/AjUF6QWVBNYDHQU0BkUFwQSxBv0IegjjBY0ESAU6BvAFvAX2Be4FMQXCA3AC3gHBAfMBhQEdAZAAhv+B/hj+nf4V/7j9APxX/Br+O/4b/H/6JPxI/vv84fmX+Br5bPnt+M74f/nl+Qf5Kvik+Bj58PgM+EL3vvY99p/1OPWF9bD2z/fX9/r2+vbp97n4x/h2+Uz7i/wU/Ob7Gv0n/8QAKAHSAYQDSgQAAwYCHwMMBUoF5gT9BQgIGAmmCHUH+QacB+0I7gnqCXcJVwkHCPUG7AaOBpwFvgUJB9IHawaRA5kCAAWPB4cGYgPpAvQEjwSmAEf/MQIxBHQC/v7l/XH/sgB4/0X+KAAVAi//Ufsn+/39o/5R/Zn9zP5g/sP9vP3Z/Sv/+ADzANb/UgCYATsB8QEYBYoG/gOgAXcDWAaTBs0EBQUcB88IwgeYBNAE0QjWCQcHkga0CfMKJgkkCMkIPQnNCAwHpQZoCMIJuAhRBtoF0wYXB5AHsQh2CF0GXAazCGEHWQQLBdsGjQZTBn0EewCZ/78DEQdTBIkANgGbAiMCIAFuAZsBzP+F/zsAIADS/1b/y//WAPEBcQAo/tD/IQSmBMABuwD7Ac0DCwQfBOcEBQX6AzQCXALlA3MEhQWKBa0EiwT7BZQFVQPsAxUHpwd+BO0BHAL5ApkDRQTHA0sBJ//LACsEPgXdA/EBSQJ3BE8EpALQAlUEngXhBAUD9QFyAakCfQORAskCHwQaA08AjgGbBUgFFQMSAnoDtASnA2EBjADjA/AFbwMFAHUALQTkBRQEwgDAACQECAT9AQwDhQXiBIsBNQEbAxgE1wOmAvICiwSRBOIBfwCCAm8FbwX9Adv/UQFAA1MCFQCWAOkCqgEL/z7/VACeACEA7v9qADsAK/+Y/oX/kAGEASb/f/0L/nYAaAH0/k/94v+XAv4AF/4J/2YB/QALAAYBKQKdAV//6f4EAY0B0/+x/uX/BgL9ATEAtP/yAJsC+gEz/5L/6wPCBRoCX/7M/60D7gIT/zX/QQMoBRoBhv3w/1oDWwLN/tf+0ALuAwgACvwj/ZwB/QLt/1L9Cv+FAQQA3Py+/EgAlAGo/pf8m/54AVAABP2V/AL/3v84/cj7XP7QAGL/rfsF+07+KwAi/sb7sfxq/3//yvxE++H8s/7f/VP82vxM/ob9c/vA+9j+RQC5/SP7TPyX/zUA+/3L/G/+sP/z/ej7Bv1rAIIBAP/2/PL99f+p/yb+qP4QAb0BHf9v/Hf9DwAuAGv+Lf5hAA4Bs/6j/EH9dv/0/4X+K/6X/6oAef+5/S/+xf+2/wP+gP3c/wgCmwBC/Vb8i/42AAj/w/0M/8AAov9x/ID7rP1E/2r+4Px7/RH/M/6h+/b6Pv3Z/m/9xPu6/LP+Qf72+0n7AP1R/mH92PtN/DT+6v6D/Ub85/wM/tT91/wt/cX+Y/8o/lP8Zvz2/Z/+g/3w/DP+Vf+6/mj9mP2O/kn+V/2J/Sf/IQBl/0v+0P0W/jf+I/4s/vX+FwBjAEb/8v2I/Uz+j/6r/oH/yACuAAf/PP0G/ff9sf5P/yMAOQBs/9b97/wm/cb9gf4A/yX/E//V/lv+cf06/Iv8PP6P/x3/3v29/TH+gv3q/Db9o/4O/03+4/2J/kP/5v6B/f78p/0J/3b/Af/A/ib/0v7F/RX9U/7L/4P/Xv5T/pr/+v9W/iz92P0z/47/DP9W/wYAzP/d/nP+FP/F/33/af/l/7MA3AAGAJP+9P1q/ur/nQDJAP4AFQHU/8T98vzq/joBwgGYAPP/1P/n/+b+cf4N/24AAwG0AFgAHwCx/x3/pv5x/4YAdgEMAdn/Z//I/ykAzP9E/8//xgDzAIYAOgAiAID/B/8r/zwApAB4ACAAMQAUAHf/KP8lAJEAIwAE/3r/UwCDALD/Qf86/6j/m//u//D/5/+k/wMA5/9G/zf+hv60/6QASgD///T/3/+b/vH9FP/jACIBHACE/7T/nP/0/lr+9f4sAOEAxADd/2n/Rf+4/5L/Sv9x/7IApQE5AWb/z/6z/0UBJwGAAFUADgElAeMAGABEAHsAHgEiASIBAgEPAQIBwABNANgAkgGmAdgAXQDIAJwBSAE+APf/3gCJAUABzQCoAIsALgBpAPQARQFZAML/AAC9AL4AEgAcAJAAYwCq/1j/MACbAH0AAAAHABcAd/+9/i//ZAAHAVEAPf8p/87/PwBZ/9f+0v/wAAYBk/9U/u7+QgCwAAAAPf+j//v/AADh/+j/ZAA9AL7/2P/x/7AA8gBRAJj/qP92AJAB+QBRACIApwDjAB4Akf/s/yEBDwJOARsAbv/M/8EA9gAQAesA8QD3AFwAAABcANwAZAEWAYYAJwBIACoADAHbAQICCAG9/8j/lgApAVsB5ACkAKIAgACoAOcAQAFkAfQAggAsAGoAawBjAAEBYgHtAEQAgv/f/z4B/QE2Abn/FP/v/0oAxwBqAMYAkQBiAP//BgAIAIwAbACQAOn/bv8+/+X/ywC6AZgAyP8a/5r/SQAKADAAowDLAIIAVP8P/zwA6wBGAdb/1v/d//b/X//0/7cAAwKuAHb/S/6b/4QAbgHq/0kAsP9qAM//+P8hANIAjAB1AAv/xf/U/8wAmACBACUAx/98/83/qP9jAOcAOgCn/6L+G/8uAIcABwDt/1//l/8q/1L/nv94AHwAQQCM/vL+8/4lAJwA3QDu/4D/5v6r/3P/dABlAIwASQAEAHD/v//0/xoBbACYAFP/sv/2/wABmQBqAPz/iQBCAMP/dv+yAGoBpQEiALD/Sf+1ABgB0QBrAMAANQEDAXYAggDcABwBygDc/3QAFABMAcEAiwCfAAUBggAEASIA5gDR/4UA6P99AGz/HADD/6oBUABHAAD/MADp/xwA2f6l/+f/swAe/+n+C//4/zYAzv/Y/qL//f+F/1f/F//L/9n/b//y/Un/e/+sABj/Nv/4/moAwf+X/879tf8e/3wAff9c//f+iQA0AIAA0/7S/9H/JQHm/8//gf+3AL//HwBOAMIAegGOAPX/HwAGANkATQBgAMMAzwAVAR4AWQC0ACEBmQCk/wX/EAAwAMMATgDGAJUAswCJ/93/qf8FANj/9P+o/wkAtf97ANP/iwCT/yUAQf+q/xz/4/9c/9n/df+x/0D/LQCW/97/Fv+4//D+R/+u/gAAxv/RAPP/Zf8h/7r+6P/+/ob+3v/p/5IA1//q/uv/pf/cALT/3P4a/kv/Sf8uAKH/ogD+/y8Bif+n/5r+OADT/wAAbf7U/nv/HAAEABQA0gCgAQgAm/8H/hn/wgDK/zMAVf8rAXcAfACw/kUAjwBDAYP/tv8N/xUByv8GAb7/QwG//ygAIf/vAJUAbgHp/9UA5P+JAEb/dP8CAN0AfQCB/8D/nQBGAZUAVgCy/2EA9f7O/hL+BAABAMYBZv+uAO/+lgEiAD0Abf7z/qT9IP92/WwA4v/XAjkBQwEM/gv/+f0e/+b9Gf8K/64BFQDg/8r/bQBkATAAVv7Y/U3+CwB1ADT/mwBeAOMB0/42/rn9oQAKANkBJ/8GAmgAwgCU/oX+ef9NAZz/Xv/U/nYBkAD3AHn/bQEhAdMAs/5V/gAAKQH4AIQAggD3AQAB5P5H/9n+LwKtANMAiv9pAowB\" type=\"audio/wav\" />\n",
       "                    Your browser does not support the audio element.\n",
       "                </audio>\n",
       "              "
      ],
      "text/plain": [
       "<IPython.lib.display.Audio object>"
      ]
     },
     "execution_count": 28,
     "metadata": {},
     "output_type": "execute_result"
    },
    {
     "data": {
      "image/png": "[encoded data removed]",
      "text/plain": [
       "<Figure size 432x288 with 1 Axes>"
      ]
     },
     "metadata": {},
     "output_type": "display_data"
    }
   ],
   "source": [
    "noise = np.random.normal(0, 1, (1, latent_dim))\n",
    "generated_image = g_models[3][0].predict(noise)\n",
    "generated_image = np.squeeze(generated_image)\n",
    "librosa.display.specshow(generated_image)\n",
    "\n",
    "test = librosa.feature.inverse.mel_to_audio(denormalize(generated_image), sr=sr, power=power)\n",
    "#write_wav('test.wav', sr=sr, y=test)\n",
    "ipd.Audio(test, rate=sr)"
   ]
  },
  {
   "cell_type": "code",
   "execution_count": 29,
   "metadata": {},
   "outputs": [],
   "source": [
    "def train_final_model(g_model, d_model, gan_model, epochs, progress_interval, save_interval):\n",
    "    scaled_data = scale_dataset(X_train, (128, 32, 1))\n",
    "    for epoch in range(epochs):\n",
    "        X_real, y_real = generate_real_samples(scaled_data, batch_size)\n",
    "        X_fake, y_fake = generate_fake_samples(g_model, batch_size)\n",
    "        \n",
    "        # update discriminator model\n",
    "        d_loss_real = d_model.train_on_batch(X_real, y_real)\n",
    "        d_loss_fake = d_model.train_on_batch(X_fake, y_fake)\n",
    "        acc = 0.5 * np.add(d_loss_real, d_loss_fake)\n",
    "        \n",
    "        # update the generator via the discriminator's error\n",
    "        z_input = np.random.normal(0, 1, (batch_size, latent_dim))\n",
    "        y_real2 = np.ones((batch_size, 1))\n",
    "        g_loss = gan_model.train_on_batch(z_input, y_real2)\n",
    "        \n",
    "        if epoch % progress_interval == 0:\n",
    "            print(str(epoch) + ' dreal=%.5f, dfake=%.5f, g=%.5f' % (d_loss_real, d_loss_fake, g_loss))\n",
    "\n",
    "        if epoch % save_interval == 0:\n",
    "            save_images('final' + str(epoch), (16, 128, 32), g_model)\n",
    "            save_audio(g_model, epoch)\n",
    "                   \n",
    "    return g_model, d_model, gan_model"
   ]
  },
  {
   "cell_type": "code",
   "execution_count": 30,
   "metadata": {},
   "outputs": [],
   "source": [
    "generator = g_models[3][0]\n",
    "discriminator = d_models[3][0]\n",
    "gan = gan_models[3][0]"
   ]
  },
  {
   "cell_type": "code",
   "execution_count": null,
   "metadata": {},
   "outputs": [
    {
     "name": "stdout",
     "output_type": "stream",
     "text": [
      "0 dreal=-64463696.00000, dfake=30895168.00000, g=-24252368.00000\n"
     ]
    }
   ],
   "source": [
    "generator, discriminator, gan = train_final_model(generator, discriminator, gan, 151, 50, 50)"
   ]
  },
  {
   "cell_type": "code",
   "execution_count": null,
   "metadata": {
    "scrolled": true
   },
   "outputs": [],
   "source": [
    "noise = np.random.normal(0, 1, (1, latent_dim))\n",
    "generated_image = generator.predict(noise)\n",
    "generated_image = np.squeeze(generated_image)\n",
    "librosa.display.specshow(generated_image)\n",
    "\n",
    "test = librosa.feature.inverse.mel_to_audio(denormalize(generated_image), sr=sr, power=power)\n",
    "#write_wav('test.wav', sr=sr, y=test)\n",
    "ipd.Audio(test, rate=sr)"
   ]
  },
  {
   "cell_type": "code",
   "execution_count": 111,
   "metadata": {},
   "outputs": [],
   "source": [
    "def generate_audio(n, generator):\n",
    "    noise = np.random.normal(0, 1, (n, latent_dim))\n",
    "    generated_images = generator.predict(noise)\n",
    "    \n",
    "    for i in tqdm(range(n)):\n",
    "        generated_image = np.squeeze(generated_images[i])\n",
    "        img = librosa.feature.inverse.mel_to_audio(generated_image, sr=sr, power=power)\n",
    "        write_wav('./data/speech_clips/generated/' + command + '_' + str(i) + '.wav', sr=sr, y=img)"
   ]
  },
  {
   "cell_type": "code",
   "execution_count": 112,
   "metadata": {},
   "outputs": [
    {
     "name": "stderr",
     "output_type": "stream",
     "text": [
      "100%|████████████████████████████████████████████████████████████████████████████████| 500/500 [01:09<00:00,  7.20it/s]\n"
     ]
    }
   ],
   "source": [
    "generate_audio(500, generator)"
   ]
  },
  {
   "cell_type": "raw",
   "metadata": {},
   "source": [
    "real = np.squeeze(X_train[2])\n",
    "librosa.display.specshow(real)\n",
    "test = librosa.feature.inverse.mel_to_audio(denormalize(real), sr=sr, power=power)\n",
    "ipd.Audio(test, rate=sr)\n",
    "#write_wav('real.wav', sr=sr, y=test)"
   ]
  },
  {
   "cell_type": "raw",
   "metadata": {},
   "source": [
    "def prep_data():\n",
    "    spectrograms = []\n",
    "    file = os.listdir('./data/speech_clips/' + command)\n",
    "    for file in os.listdir('./data/speech_clips/' + command + '/'):\n",
    "        split_filename = file.split('.')\n",
    "        if split_filename[1] == 'wav':\n",
    "            data, rate = librosa.load('./data/speech_clips/'  + command + '/' + file, duration=1, sr=sr)\n",
    "            spectrogram = librosa.feature.melspectrogram(y=data, sr=sr, n_mels=128, power=power)\n",
    "            if spectrogram.shape[1] == 32:\n",
    "                spectrograms.append(spectrogram)\n",
    "\n",
    "    X_train = np.array(spectrograms)\n",
    "    np.random.shuffle(X_train)\n",
    "    X_test = X_train[:400]\n",
    "    X_train = X_train[400:]\n",
    "    \n",
    "    np.save('./data/' + command + '-train',  X_train)\n",
    "    np.save('./data/' + command + '-test',  X_train)\n",
    "    return spectrogram.shape\n",
    "\n",
    "shape = prep_data()\n",
    "shape"
   ]
  },
  {
   "cell_type": "code",
   "execution_count": null,
   "metadata": {},
   "outputs": [],
   "source": []
  }
 ],
 "metadata": {
  "kernelspec": {
   "display_name": "Python 3",
   "language": "python",
   "name": "python3"
  },
  "language_info": {
   "codemirror_mode": {
    "name": "ipython",
    "version": 3
   },
   "file_extension": ".py",
   "mimetype": "text/x-python",
   "name": "python",
   "nbconvert_exporter": "python",
   "pygments_lexer": "ipython3",
   "version": "3.7.4"
  }
 },
 "nbformat": 4,
 "nbformat_minor": 2
}
