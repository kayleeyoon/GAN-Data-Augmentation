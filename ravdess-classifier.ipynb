{
 "cells": [
  {
   "cell_type": "code",
   "execution_count": null,
   "metadata": {},
   "outputs": [],
   "source": [
    "import os\n",
    "from scipy.io import wavfile\n",
    "import pandas as pd\n",
    "import matplotlib.pyplot as plt\n",
    "import numpy as np\n",
    "import keras\n",
    "from keras.layers import Conv2D, MaxPool2D, Flatten, LSTM\n",
    "from keras.layers import Dropout, Dense, TimeDistributed\n",
    "from keras.models import Sequential\n",
    "from keras.utils import to_categorical\n",
    "from sklearn.utils.class_weight import compute_class_weight\n",
    "from keras.callbacks import ModelCheckpoint\n",
    "import librosa\n",
    "from tqdm import tqdm"
   ]
  },
  {
   "cell_type": "code",
   "execution_count": null,
   "metadata": {},
   "outputs": [],
   "source": [
    "img_shape = (128, 64, 1) # rows, columns, channels\n",
    "power = .5\n",
    "lr = .0002\n",
    "num_outputs = 3"
   ]
  },
  {
   "cell_type": "code",
   "execution_count": null,
   "metadata": {},
   "outputs": [],
   "source": [
    "data = np.load('./data/ravdess-data.npy', allow_pickle=True)\n",
    "np.random.shuffle(data)\n",
    "X_train, y_train = zip(*data)\n",
    "\n",
    "# reshape\n",
    "X_train = np.array([x.reshape(img_shape) for x in X_train])\n",
    "\n",
    "# normalize\n",
    "_max = np.amax(X_train)\n",
    "X_train = X_train / _max\n",
    "\n",
    "# one hot encode target output\n",
    "y_train = np.array(keras.utils.to_categorical(y_train, num_outputs))"
   ]
  },
  {
   "cell_type": "raw",
   "metadata": {},
   "source": [
    "# separate test output\n",
    "X_test = X_train[0:50]\n",
    "y_test = y_train[0:50]\n",
    "\n",
    "X_train = X_train[50:]\n",
    "y_train = y_train[50:]"
   ]
  },
  {
   "cell_type": "code",
   "execution_count": null,
   "metadata": {
    "scrolled": true
   },
   "outputs": [],
   "source": [
    "model = Sequential()\n",
    "model.add(Conv2D(128, (3, 3), activation='relu', strides=(1, 1), padding='same', input_shape=(img_shape)))\n",
    "model.add(Conv2D(128, (3,3), activation='relu', strides=(1,1), padding='same'))\n",
    "model.add(Conv2D(128, (3,3), activation='relu', strides=(1,1), padding='same'))\n",
    "model.add(MaxPool2D(2,2))\n",
    "model.add(Flatten())\n",
    "\n",
    "model.add(Dense(64, activation='relu'))\n",
    "model.add(Dropout(0.5))\n",
    "model.add(Dense(64, activation='relu'))\n",
    "model.add(Dropout(0.5))\n",
    "model.add(Dense(64, activation='relu'))\n",
    "\n",
    "model.add(Dense(num_outputs, activation='softmax'))\n",
    "\n",
    "adam = keras.optimizers.Adam(lr=lr)\n",
    "model.compile(loss='categorical_crossentropy', optimizer=adam, metrics=['categorical_accuracy'])"
   ]
  },
  {
   "cell_type": "code",
   "execution_count": null,
   "metadata": {
    "scrolled": true
   },
   "outputs": [],
   "source": [
    "history = model.fit(X_train, y_train, verbose=2, epochs=70, batch_size=32, validation_split=0.25)"
   ]
  },
  {
   "cell_type": "code",
   "execution_count": null,
   "metadata": {},
   "outputs": [],
   "source": [
    "plt.plot(history.history['categorical_accuracy'])\n",
    "plt.plot(history.history['val_categorical_accuracy'])\n",
    "plt.title('model accuracy')\n",
    "plt.ylabel('accuracy')\n",
    "plt.xlabel('epoch')\n",
    "plt.legend(['train', 'validation'], loc='upper left')\n",
    "plt.show()"
   ]
  },
  {
   "cell_type": "code",
   "execution_count": null,
   "metadata": {},
   "outputs": [],
   "source": [
    "plt.plot(history.history['loss'])\n",
    "plt.plot(history.history['val_loss'])\n",
    "plt.title('model loss')\n",
    "plt.ylabel('loss')\n",
    "plt.xlabel('epoch')\n",
    "plt.legend(['train', 'validation'], loc='upper left')\n",
    "plt.show()"
   ]
  },
  {
   "cell_type": "raw",
   "metadata": {},
   "source": [
    "predictions = model.predict(x_test)"
   ]
  },
  {
   "cell_type": "raw",
   "metadata": {},
   "source": [
    "predictionList = []\n",
    "actualList = []\n",
    "for pred in predictions:\n",
    "    predictionList.append(np.argmax(pred))\n",
    "    \n",
    "for actual in y_test:\n",
    "    actualList.append(np.argmax(actual))"
   ]
  },
  {
   "cell_type": "raw",
   "metadata": {},
   "source": [
    "correct = 0\n",
    "total = 0\n",
    "for i in range(len(predictionList)):\n",
    "    if predictionList[i] == actualList[i]:\n",
    "        correct += 1\n",
    "    total += 1"
   ]
  },
  {
   "cell_type": "raw",
   "metadata": {},
   "source": [
    "data, rate = librosa.load('./data/ravdess/03-01-01-01-01-01-01.wav', offset=0.5, duration=2.02, sr=16000)\n",
    "spectrogram = librosa.feature.melspectrogram(y=data, sr=rate, n_mels=128, power=power)\n",
    "librosa.display.specshow(spectrogram)"
   ]
  },
  {
   "cell_type": "raw",
   "metadata": {},
   "source": [
    "def prep_data():\n",
    "    spectrograms = []\n",
    "    file_names = os.listdir('./data/ravdess')\n",
    "    for file in tqdm(file_names):\n",
    "        split_filename = file.split('.')\n",
    "        if split_filename[1] == 'wav':\n",
    "            gender_id = int(split_filename[0].split('-')[-1])\n",
    "            # only use male voices\n",
    "            if gender_id % 2 == 1:\n",
    "                data, rate = librosa.load('./data/ravdess/' + file, offset=0.75, duration=2.02, sr=16000)\n",
    "                spectrogram = librosa.feature.melspectrogram(y=data, sr=rate, n_mels=128, power=power)\n",
    "                if spectrogram.shape[1] == 64:\n",
    "                    emotion = int(file.split('-')[2])\n",
    "                    if emotion == 1: # neutral\n",
    "                        spectrograms.append((spectrogram, 0))\n",
    "                    elif emotion == 5: # angry\n",
    "                        spectrograms.append((spectrogram, 1))\n",
    "                    elif emotion == 7: # disgust\n",
    "                        spectrograms.append((spectrogram, 2))\n",
    "\n",
    "    X_train = np.array(spectrograms)\n",
    "    \n",
    "    np.save('./data/ravdess-data', X_train)\n",
    "    return spectrogram.shape\n",
    "\n",
    "shape = prep_data()"
   ]
  }
 ],
 "metadata": {
  "kernelspec": {
   "display_name": "Python 3",
   "language": "python",
   "name": "python3"
  },
  "language_info": {
   "codemirror_mode": {
    "name": "ipython",
    "version": 3
   },
   "file_extension": ".py",
   "mimetype": "text/x-python",
   "name": "python",
   "nbconvert_exporter": "python",
   "pygments_lexer": "ipython3",
   "version": "3.6.9"
  }
 },
 "nbformat": 4,
 "nbformat_minor": 2
}
