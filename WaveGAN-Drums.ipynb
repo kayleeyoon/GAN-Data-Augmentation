{
 "cells": [
  {
   "cell_type": "code",
   "execution_count": null,
   "metadata": {},
   "outputs": [],
   "source": [
    "import tensorflow as tf\n",
    "from keras.layers import Input, Dense, Reshape, Flatten, Dropout\n",
    "from keras.layers import BatchNormalization, Activation, ZeroPadding2D\n",
    "from keras.layers.advanced_activations import LeakyReLU\n",
    "from keras.layers.convolutional import UpSampling2D, Conv2D, Conv2DTranspose, Conv1D\n",
    "from keras.models import Sequential, Model\n",
    "from keras.optimizers import Adam, RMSprop\n",
    "import matplotlib.pyplot as plt\n",
    "import numpy as np\n",
    "import os\n",
    "import librosa\n",
    "from tqdm import tqdm\n",
    "from scipy.io.wavfile import write"
   ]
  },
  {
   "cell_type": "code",
   "execution_count": null,
   "metadata": {},
   "outputs": [],
   "source": [
    "tf.logging.set_verbosity(tf.logging.ERROR)"
   ]
  },
  {
   "cell_type": "code",
   "execution_count": null,
   "metadata": {},
   "outputs": [],
   "source": [
    "img_rows = 128\n",
    "img_cols = 128\n",
    "img_shape = (img_rows, img_cols)\n",
    "latent_dim = 100\n",
    "_min = 0\n",
    "_max = 3140.9622"
   ]
  },
  {
   "cell_type": "code",
   "execution_count": null,
   "metadata": {},
   "outputs": [],
   "source": [
    "X_train = np.load('drum-data.npy')"
   ]
  },
  {
   "cell_type": "code",
   "execution_count": null,
   "metadata": {},
   "outputs": [],
   "source": [
    "def build_generator():\n",
    "    model = Sequential()\n",
    "    \n",
    "    # layer output size (16, 1024)\n",
    "    model.add(Dense(16 * 64 * 16, activation='relu', input_dim=latent_dim))\n",
    "    model.add(Reshape((16, 1024)))\n",
    "    model.add(Activation('relu'))\n",
    "    \n",
    "    # layer output size (64, 512)\n",
    "    model.add(Reshape((1, 16, 1024)))\n",
    "    model.add(Conv2DTranspose(512, kernel_size=(1, 25), strides=(1, 4), padding='same'))\n",
    "    model.add(Activation('relu'))\n",
    "\n",
    "    # layer output size (256, 256)\n",
    "    model.add(Conv2DTranspose(256, kernel_size=(1, 25), strides=(1, 4), padding='same'))\n",
    "    model.add(Activation('relu'))\n",
    "    \n",
    "    # layer output size (1024, 128)\n",
    "    model.add(Conv2DTranspose(128, kernel_size=(1, 25), strides=(1, 4), padding='same'))\n",
    "    model.add(Activation('relu'))\n",
    "    \n",
    "    # layer output size (4096, 64)\n",
    "    model.add(Conv2DTranspose(64, kernel_size=(1, 25), strides=(1, 4), padding='same'))\n",
    "    model.add(Activation('relu'))\n",
    "    \n",
    "    # layer output size (128, 128)\n",
    "    model.add(Conv2DTranspose(1, kernel_size=(1, 25), strides=(1, 4), padding='same'))\n",
    "    model.add(Reshape((16384, 1)))\n",
    "    model.add(Activation('tanh'))\n",
    "    model.add(Reshape((128, 128)))\n",
    "\n",
    "    return model"
   ]
  },
  {
   "cell_type": "code",
   "execution_count": null,
   "metadata": {},
   "outputs": [],
   "source": [
    "def build_discriminator():\n",
    "    model = Sequential()\n",
    "    \n",
    "    model.add(Conv1D(64, kernel_size=25, strides=4, input_shape=img_shape, padding='same'))\n",
    "    model.add(LeakyReLU())\n",
    "    \n",
    "    model.add(Conv1D(128, kernel_size=25, strides=4, padding='same'))\n",
    "    model.add(LeakyReLU())\n",
    "    \n",
    "    model.add(Conv1D(256, kernel_size=25, strides=4, padding='same'))\n",
    "    model.add(LeakyReLU())\n",
    "    \n",
    "    model.add(Conv1D(512, kernel_size=25, strides=4, padding='same'))\n",
    "    model.add(LeakyReLU())\n",
    "    \n",
    "    model.add(Conv1D(1024, kernel_size=25, strides=4, padding='same'))\n",
    "    model.add(LeakyReLU())\n",
    "    \n",
    "    model.add(Flatten())\n",
    "    model.add(Dense(1, activation='sigmoid'))\n",
    "\n",
    "    return model"
   ]
  },
  {
   "cell_type": "code",
   "execution_count": null,
   "metadata": {},
   "outputs": [],
   "source": [
    "def train(X_train, gan_model, discriminator, epochs, batch_size=128, save_interval=100, progress_interval=1):\n",
    "    # prepare target outpus\n",
    "    ones = np.ones((batch_size, 1))\n",
    "    zeros = np.zeros((batch_size, 1))\n",
    "\n",
    "    for epoch in range(epochs):\n",
    "        # Select random images\n",
    "        index = np.random.randint(0, X_train.shape[0], batch_size)\n",
    "        real_images = X_train[index]\n",
    "\n",
    "        # Sample noise and generate a batch of new images\n",
    "        noise = np.random.normal(0, 1, (batch_size, latent_dim))\n",
    "        generated_images = generator.predict(noise)\n",
    "        \n",
    "        # Train the discriminator (real classified as ones and generated as zeros)\n",
    "        d_loss_real = discriminator.train_on_batch(real_images, ones)\n",
    "        d_loss_fake = discriminator.train_on_batch(generated_images, zeros)\n",
    "        d_loss = 0.5 * np.add(d_loss_real, d_loss_fake)\n",
    "\n",
    "        # Train the generator \n",
    "        g_loss = gan_model.train_on_batch(noise, ones)\n",
    "\n",
    "        if epoch % progress_interval == 0:\n",
    "            print (\"%d [D loss: %f, acc.: %.2f%%] [G loss: %f]\" % (epoch, d_loss[0], 100*d_loss[1], g_loss))\n",
    "\n",
    "        if epoch % save_interval == 0:\n",
    "            save_images(epoch)\n",
    "            \n",
    "        #if epoch % (save_interval * 2) == 0:\n",
    "            #save_audio(epoch)\n",
    "            \n",
    "    return gan_model, discriminator"
   ]
  },
  {
   "cell_type": "code",
   "execution_count": null,
   "metadata": {},
   "outputs": [],
   "source": [
    "def save_images(epoch):\n",
    "    rows, cols = 2, 2\n",
    "    noise = np.random.normal(0, 1, (rows * cols, latent_dim))\n",
    "    gen_imgs = generator.predict(noise)\n",
    "\n",
    "    fig, axs = plt.subplots(rows, cols)\n",
    "    cnt = 0\n",
    "    for i in range(rows):\n",
    "        for j in range(cols):\n",
    "            axs[i,j].imshow(gen_imgs[cnt, :,:], cmap='hot')\n",
    "            axs[i,j].axis('off')\n",
    "            cnt += 1\n",
    "    fig.savefig(\"images/drums_%d.png\" % epoch)\n",
    "    plt.close()"
   ]
  },
  {
   "cell_type": "code",
   "execution_count": null,
   "metadata": {},
   "outputs": [],
   "source": [
    "def save_audio(epoch):\n",
    "    noise = np.random.normal(0, 1, (1, latent_dim))\n",
    "    generated_images = generator.predict(noise)\n",
    "    generated_image = np.squeeze(generated_images[0])\n",
    "    audio = librosa.feature.inverse.mel_to_audio(denormalize(generated_image), sr=22050)\n",
    "    write('audio/drums_' + str(epoch) + '.wav', 22050, audio)"
   ]
  },
  {
   "cell_type": "code",
   "execution_count": null,
   "metadata": {},
   "outputs": [],
   "source": [
    "def denormalize(array):\n",
    "    return (array * (_max - _min)) + _min"
   ]
  },
  {
   "cell_type": "code",
   "execution_count": null,
   "metadata": {},
   "outputs": [],
   "source": [
    "generator = build_generator()\n",
    "discriminator = build_discriminator()\n",
    "d_optimizer = Adam(lr=0.0001)\n",
    "discriminator.compile(loss='binary_crossentropy', optimizer=d_optimizer, metrics=['accuracy'])\n",
    "discriminator.trainable = False\n",
    "gan_model = Sequential()\n",
    "gan_model.add(generator)\n",
    "gan_model.add(discriminator)\n",
    "gan_optimizer = Adam(lr=0.0001)\n",
    "gan_model.compile(loss='binary_crossentropy', optimizer=gan_optimizer)"
   ]
  },
  {
   "cell_type": "code",
   "execution_count": null,
   "metadata": {},
   "outputs": [],
   "source": [
    "gan_model, discriminator = train(X_train, gan_model, discriminator, epochs=1501, batch_size=32, save_interval=250, progress_interval=50)"
   ]
  },
  {
   "cell_type": "code",
   "execution_count": null,
   "metadata": {},
   "outputs": [],
   "source": [
    "noise = np.random.normal(0, 1, (1, latent_dim))\n",
    "generated_images = generator.predict(noise)\n",
    "generated_image = np.squeeze(generated_images)\n",
    "plt.imshow(generated_image, cmap='hot')\n",
    "\n",
    "test = librosa.feature.inverse.mel_to_audio(denormalize(generated_image), sr=22050)\n",
    "write('test.wav', 22050, test)"
   ]
  },
  {
   "cell_type": "raw",
   "metadata": {},
   "source": [
    "#test = librosa.feature.inverse.mel_to_audio(denormalize(X_train[0]), sr=22050)\n",
    "#write('baseline.wav', 22050, test)\n",
    "plt.imshow(X_train[0], cmap='hot')"
   ]
  },
  {
   "cell_type": "raw",
   "metadata": {},
   "source": [
    "test = np.delete(a[0], range(100, 128), axis=0)\n",
    "test = librosa.feature.inverse.mel_to_audio(denormalize(test), sr=22050)\n",
    "write('test.wav', 22050, test)\n",
    "plt.imshow(test, cmap='hot')"
   ]
  },
  {
   "cell_type": "raw",
   "metadata": {},
   "source": [
    "def prep_data():\n",
    "    spectrograms = []\n",
    "    file_names = os.listdir('drums')\n",
    "    first = True\n",
    "    for file in tqdm(file_names):\n",
    "        if file.split('.')[1] == 'wav':\n",
    "            if librosa.get_duration(filename='./drums/' + file) > 2.95:\n",
    "                data, rate = librosa.load('./drums/' + file, duration=2.95)\n",
    "                spectrogram = librosa.feature.melspectrogram(y=data, sr=rate)\n",
    "                #spectrogram = np.delete(spectrogram, range(100, 128), axis=0)\n",
    "                if first:\n",
    "                    _min = np.amin(spectrogram)\n",
    "                    _max = np.amax(spectrogram)\n",
    "                    first = False\n",
    "                else:\n",
    "                    _min = min(np.amin(spectrogram), _min)\n",
    "                    _max = max(np.amax(spectrogram), _max)\n",
    "                spectrograms.append(spectrogram)\n",
    "    X_train = np.array(spectrograms)\n",
    "    \n",
    "    # normalize values\n",
    "    X_train = (X_train - _min) / (_max - _min)\n",
    "    \n",
    "    np.save('drum-data', X_train)\n",
    "    return _min, _max, X_train.shape\n",
    "\n",
    "_min, _max, shape = prep_data()"
   ]
  },
  {
   "cell_type": "code",
   "execution_count": null,
   "metadata": {},
   "outputs": [],
   "source": []
  }
 ],
 "metadata": {
  "kernelspec": {
   "display_name": "Python 3",
   "language": "python",
   "name": "python3"
  },
  "language_info": {
   "codemirror_mode": {
    "name": "ipython",
    "version": 3
   },
   "file_extension": ".py",
   "mimetype": "text/x-python",
   "name": "python",
   "nbconvert_exporter": "python",
   "pygments_lexer": "ipython3",
   "version": "3.7.4"
  }
 },
 "nbformat": 4,
 "nbformat_minor": 2
}
