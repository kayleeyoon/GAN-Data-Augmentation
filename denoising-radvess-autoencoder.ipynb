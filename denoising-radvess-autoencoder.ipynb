{
 "cells": [
  {
   "cell_type": "code",
   "execution_count": null,
   "metadata": {
    "scrolled": false
   },
   "outputs": [],
   "source": [
    "import numpy as np\n",
    "import keras\n",
    "from keras.datasets import mnist\n",
    "from keras.models import Sequential, Model\n",
    "from keras.layers import Dense, Input, Reshape, Conv2D, MaxPooling2D, UpSampling2D\n",
    "from keras import optimizers\n",
    "from keras.optimizers import Adam\n",
    "import matplotlib.pyplot as plt\n",
    "import tensorflow as tf\n",
    "import librosa\n",
    "from librosa import display\n",
    "from librosa.output import write_wav\n",
    "import cv2"
   ]
  },
  {
   "cell_type": "code",
   "execution_count": null,
   "metadata": {},
   "outputs": [],
   "source": [
    "tf.logging.set_verbosity(tf.logging.ERROR)\n",
    "config = tf.ConfigProto()\n",
    "config.gpu_options.allow_growth = True\n",
    "sess = tf.Session(config=config)"
   ]
  },
  {
   "cell_type": "code",
   "execution_count": null,
   "metadata": {},
   "outputs": [],
   "source": [
    "def denormalize(array):\n",
    "    return array * _max"
   ]
  },
  {
   "cell_type": "code",
   "execution_count": null,
   "metadata": {},
   "outputs": [],
   "source": [
    "X_train = np.load('./data/ravdess-gan-data.npy')\n",
    "_max = np.amax(X_train)\n",
    "\n",
    "# normalize\n",
    "X_train = X_train / _max"
   ]
  },
  {
   "cell_type": "code",
   "execution_count": null,
   "metadata": {},
   "outputs": [],
   "source": [
    "# blur image\n",
    "X_train_noisy = []\n",
    "for x in X_train:    \n",
    "    blurred_image = cv2.GaussianBlur(np.squeeze(x), (5, 5), 5)\n",
    "    X_train_noisy.append(blurred_image)"
   ]
  },
  {
   "cell_type": "code",
   "execution_count": null,
   "metadata": {},
   "outputs": [],
   "source": [
    "X_train = np.expand_dims(X_train, axis=3)\n",
    "X_train_noisy = np.array(X_train_noisy)\n",
    "X_train_noisy = np.expand_dims(X_train_noisy, axis=3)"
   ]
  },
  {
   "cell_type": "code",
   "execution_count": null,
   "metadata": {},
   "outputs": [],
   "source": [
    "autoencoder = Sequential()\n",
    "\n",
    "autoencoder.add(Conv2D(128, 2, activation='relu', padding='same', input_shape=(128, 64, 1)))\n",
    "autoencoder.add(MaxPooling2D((2, 2), padding='same'))\n",
    "\n",
    "autoencoder.add(Conv2D(128, 2, activation='relu', padding='same'))\n",
    "autoencoder.add(UpSampling2D((2, 2)))\n",
    "\n",
    "autoencoder.add(Conv2D(128, 2, activation='relu', padding='same'))\n",
    "\n",
    "autoencoder.add(Conv2D(64, 2, activation='relu', padding='same'))\n",
    "\n",
    "autoencoder.add(Conv2D(1, 2, activation='sigmoid', padding='same'))\n",
    "\n",
    "optim = Adam(lr=.002)\n",
    "autoencoder.compile(optimizer=optim, loss='binary_crossentropy')"
   ]
  },
  {
   "cell_type": "code",
   "execution_count": null,
   "metadata": {
    "scrolled": true
   },
   "outputs": [],
   "source": [
    "autoencoder.fit(X_train_noisy, X_train, epochs=500, batch_size=128, validation_split=.1)"
   ]
  },
  {
   "cell_type": "code",
   "execution_count": null,
   "metadata": {},
   "outputs": [],
   "source": [
    "librosa.display.specshow(X_train_noisy[0].reshape(128, 64))"
   ]
  },
  {
   "cell_type": "code",
   "execution_count": null,
   "metadata": {},
   "outputs": [],
   "source": [
    "data = X_train[0]\n",
    "data = np.expand_dims(data, axis=0)\n",
    "data = autoencoder.predict(data) \n",
    "data = data.reshape(128, 64)\n",
    "librosa.display.specshow(data)\n",
    "reconstructed = librosa.feature.inverse.mel_to_audio(denormalize(data), sr=16000, power=.5)\n",
    "write_wav('reconstructed.wav', sr=16000, y=reconstructed)"
   ]
  },
  {
   "cell_type": "code",
   "execution_count": null,
   "metadata": {
    "scrolled": true
   },
   "outputs": [],
   "source": [
    "data = X_train[0].reshape(128, 64)\n",
    "librosa.display.specshow(data)\n",
    "real = librosa.feature.inverse.mel_to_audio(denormalize(data), sr=16000, power=.5)\n",
    "write_wav('real.wav', sr=16000, y=real)"
   ]
  },
  {
   "cell_type": "code",
   "execution_count": null,
   "metadata": {},
   "outputs": [],
   "source": [
    "data, rate = librosa.load('./audio/yes_0.wav', duration=2.02, sr=16000,)\n",
    "spectrogram = librosa.feature.melspectrogram(y=data, sr=rate, n_mels=128, power=.5)\n",
    "librosa.display.specshow(spectrogram)"
   ]
  },
  {
   "cell_type": "code",
   "execution_count": null,
   "metadata": {},
   "outputs": [],
   "source": [
    "spectrogram = np.expand_dims(spectrogram, axis=0)\n",
    "spectrogram = np.expand_dims(spectrogram, axis=3)\n",
    "output = autoencoder.predict(spectrogram)\n",
    "output = np.squeeze(output)\n",
    "librosa.display.specshow(output)\n",
    "output = librosa.feature.inverse.mel_to_audio(denormalize(output), sr=16000, power=.5)\n",
    "write_wav('test.wav', sr=16000, y=output)"
   ]
  },
  {
   "cell_type": "code",
   "execution_count": null,
   "metadata": {},
   "outputs": [],
   "source": []
  }
 ],
 "metadata": {
  "kernelspec": {
   "display_name": "Python 3",
   "language": "python",
   "name": "python3"
  },
  "language_info": {
   "codemirror_mode": {
    "name": "ipython",
    "version": 3
   },
   "file_extension": ".py",
   "mimetype": "text/x-python",
   "name": "python",
   "nbconvert_exporter": "python",
   "pygments_lexer": "ipython3",
   "version": "3.7.4"
  }
 },
 "nbformat": 4,
 "nbformat_minor": 2
}
