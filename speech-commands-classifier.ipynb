{
 "cells": [
  {
   "cell_type": "code",
   "execution_count": null,
   "metadata": {},
   "outputs": [],
   "source": [
    "import os\n",
    "from scipy.io import wavfile\n",
    "import pandas as pd\n",
    "import matplotlib.pyplot as plt\n",
    "import numpy as np\n",
    "import keras\n",
    "from keras.layers import Conv2D, MaxPool2D, Flatten, LSTM\n",
    "from keras.layers import Dropout, Dense, TimeDistributed\n",
    "from keras.models import Sequential\n",
    "from keras.utils import to_categorical\n",
    "from sklearn.utils.class_weight import compute_class_weight\n",
    "from keras.callbacks import ModelCheckpoint\n",
    "import librosa\n",
    "from tqdm import tqdm\n",
    "from sklearn.utils import shuffle"
   ]
  },
  {
   "cell_type": "code",
   "execution_count": null,
   "metadata": {},
   "outputs": [],
   "source": [
    "img_shape = (128, 32, 1) # rows, columns, channels\n",
    "power = .5\n",
    "sr = 16000\n",
    "lr = .002\n",
    "commands = ['go', 'no', 'stop','yes', 'up', 'down', 'left', 'right']"
   ]
  },
  {
   "cell_type": "code",
   "execution_count": null,
   "metadata": {},
   "outputs": [],
   "source": [
    "def prepare_data(datatype):\n",
    "    y = []\n",
    "    command_num = 0\n",
    "    for command in commands:\n",
    "        command_data = np.load('./data/' + command + '-' + datatype + '.npy', allow_pickle=True)\n",
    "        for _ in range(command_data.shape[0]):\n",
    "            y.append(command_num)\n",
    "        if command_num == 0:\n",
    "            X = command_data\n",
    "        else:\n",
    "            X = np.concatenate((X, command_data), axis=0)\n",
    "        command_num += 1\n",
    "        \n",
    "    # add generated data to training dataset    \n",
    "    if datatype == 'train':\n",
    "        generated_data = np.load('./data/speech-commands-generated-data.npy', allow_pickle=True)\n",
    "        X_generated, y_generated = zip(*generated_data)\n",
    "        X = np.concatenate((X, X_generated), axis=0)\n",
    "        y = y + list(y_generated)    \n",
    "        \n",
    "    # one hot encode target output\n",
    "    y = np.array(keras.utils.to_categorical(y, len(commands)))\n",
    "    \n",
    "    # normalize\n",
    "    X = np.expand_dims(X, axis=3)\n",
    "    _max = np.amax(X)\n",
    "    X = X / _max\n",
    "    \n",
    "    return shuffle(X, y, random_state=0)"
   ]
  },
  {
   "cell_type": "code",
   "execution_count": null,
   "metadata": {},
   "outputs": [],
   "source": [
    "X_train, y_train = prepare_data('train')"
   ]
  },
  {
   "cell_type": "code",
   "execution_count": null,
   "metadata": {},
   "outputs": [],
   "source": [
    "X_test, y_test = prepare_data('test')"
   ]
  },
  {
   "cell_type": "code",
   "execution_count": null,
   "metadata": {
    "scrolled": true
   },
   "outputs": [],
   "source": [
    "model = Sequential()\n",
    "model.add(Conv2D(128, (3, 3), activation='relu', strides=(1, 1), padding='same', input_shape=(img_shape)))\n",
    "model.add(Conv2D(128, (3,3), activation='relu', strides=(1,1), padding='same'))\n",
    "model.add(Conv2D(128, (3,3), activation='relu', strides=(1,1), padding='same'))\n",
    "model.add(MaxPool2D(2,2))\n",
    "model.add(Flatten())\n",
    "\n",
    "model.add(Dense(64, activation='relu'))\n",
    "model.add(Dropout(0.5))\n",
    "model.add(Dense(64, activation='relu'))\n",
    "model.add(Dropout(0.5))\n",
    "model.add(Dense(64, activation='relu'))\n",
    "\n",
    "model.add(Dense(len(commands), activation='softmax'))\n",
    "\n",
    "adam = keras.optimizers.Adam(lr=lr)\n",
    "model.compile(loss='categorical_crossentropy', optimizer=adam, metrics=['categorical_accuracy'])"
   ]
  },
  {
   "cell_type": "code",
   "execution_count": null,
   "metadata": {
    "scrolled": true
   },
   "outputs": [],
   "source": [
    "history = model.fit(X_train, y_train, verbose=2, epochs=50, batch_size=128, validation_split=0.2)"
   ]
  },
  {
   "cell_type": "code",
   "execution_count": null,
   "metadata": {},
   "outputs": [],
   "source": [
    "plt.plot(history.history['categorical_accuracy'])\n",
    "plt.plot(history.history['val_categorical_accuracy'])\n",
    "plt.title('model accuracy')\n",
    "plt.ylabel('accuracy')\n",
    "plt.xlabel('epoch')\n",
    "plt.legend(['train', 'validation'], loc='upper left')\n",
    "plt.show()"
   ]
  },
  {
   "cell_type": "code",
   "execution_count": null,
   "metadata": {},
   "outputs": [],
   "source": [
    "plt.plot(history.history['loss'])\n",
    "plt.plot(history.history['val_loss'])\n",
    "plt.title('model loss')\n",
    "plt.ylabel('loss')\n",
    "plt.xlabel('epoch')\n",
    "plt.legend(['train', 'validation'], loc='upper left')\n",
    "plt.show()"
   ]
  },
  {
   "cell_type": "code",
   "execution_count": null,
   "metadata": {},
   "outputs": [],
   "source": [
    "predictions = model.predict(X_test)"
   ]
  },
  {
   "cell_type": "code",
   "execution_count": null,
   "metadata": {},
   "outputs": [],
   "source": [
    "predictionList = []\n",
    "actualList = []\n",
    "for pred in predictions:\n",
    "    predictionList.append(np.argmax(pred))\n",
    "for actual in y_test:\n",
    "    actualList.append(np.argmax(actual))"
   ]
  },
  {
   "cell_type": "code",
   "execution_count": null,
   "metadata": {},
   "outputs": [],
   "source": [
    "correct = 0\n",
    "total = 0\n",
    "for i in range(len(predictionList)):\n",
    "    if predictionList[i] == actualList[i]:\n",
    "        correct += 1\n",
    "    total += 1"
   ]
  },
  {
   "cell_type": "code",
   "execution_count": null,
   "metadata": {},
   "outputs": [],
   "source": [
    "correct/total \n",
    "\n",
    "# Train on 14610 samples, validate on 3653 samples :0.7974394520101117"
   ]
  },
  {
   "cell_type": "code",
   "execution_count": null,
   "metadata": {},
   "outputs": [],
   "source": [
    "# yes, no, stop, go\n",
    "#Train on 4903 samples, validate on 1226 samples: 0.9663892967857726\n",
    "#Train on 6492 samples, validate on 1624 samples: 0.9738945994452602\n",
    "#Train on 9703 samples, validate on 2426 samples: 0.968347201827378"
   ]
  }
 ],
 "metadata": {
  "kernelspec": {
   "display_name": "Python 3",
   "language": "python",
   "name": "python3"
  },
  "language_info": {
   "codemirror_mode": {
    "name": "ipython",
    "version": 3
   },
   "file_extension": ".py",
   "mimetype": "text/x-python",
   "name": "python",
   "nbconvert_exporter": "python",
   "pygments_lexer": "ipython3",
   "version": "3.7.4"
  }
 },
 "nbformat": 4,
 "nbformat_minor": 2
}
